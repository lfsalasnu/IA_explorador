{
  "nbformat": 4,
  "nbformat_minor": 0,
  "metadata": {
    "colab": {
      "provenance": []
    },
    "kernelspec": {
      "name": "python3",
      "display_name": "Python 3"
    },
    "language_info": {
      "name": "python"
    }
  },
  "cells": [
    {
      "cell_type": "markdown",
      "source": [
        "# Coliformes Fecales en cuerpos acuáticos de Boyaca"
      ],
      "metadata": {
        "id": "DYwALRN8txaZ"
      }
    },
    {
      "cell_type": "markdown",
      "source": [
        "Los coliformes fecales (NMP/100 mL) son bacterias presentes en el intestino de los animales de sangre caliente, incluidas las personas. Su presencia en el agua es un indicador de contaminación fecal y, por tanto, de la posible presencia de patógenos que pueden causar enfermedades.\n",
        "\n",
        "**Parámetro**  \n",
        "Coliformes fecales NMP/100 mL:  \n",
        "- NMP significa Número Más Probable, que es una estimación estadística de la cantidad de bacterias en una muestra de agua.\n",
        "- La medida se refiere al número más probable de bacterias coliformes fecales presentes en 100 mililitros de agua.  \n",
        "\n",
        "\n",
        "**Unidades**  \n",
        "NMP/100 mL\n",
        "- Esta es la unidad de medida usada para reportar los resultados de coliformes fecales en agua. Cuanto más alto sea este número, mayor es la cantidad de bacterias presentes.    \n",
        "\n",
        "\n",
        "**Importancia**  \n",
        "Los coliformes fecales son indicadores de contaminación con heces y, por lo tanto, pueden señalar la presencia de microorganismos patógenos en el agua.\n",
        "Estos organismos no necesariamente causan enfermedades, pero su presencia indica que otras bacterias, virus o parásitos, como los causantes de la disentería, cólera o fiebre tifoidea, pueden estar presentes en el agua.\n",
        "### Límite superior permitido\n",
        "**Límite en agua potable**  \n",
        "Según la Organización Mundial de la Salud (OMS), no debería haber coliformes fecales en 100 mL de agua potable. Es decir, el valor máximo permitido es 0 NMP/100 mL.  \n",
        "**Agua para potabilizar**  \n",
        "Según el artículo 2.2.3.3.9.3. TRANSITORIO. (Art. 38-del Decreto 1594 de 1984), el valor máximo permisible para coliformes fecales es de 2000 NMP/100 ml.\n",
        "\n",
        "**Límite en cuerpos de agua recreativa**  \n",
        "Para el agua destinada a la recreación, el límite varía, pero generalmente no debería exceder de 2000 NMP/100 mL en aguas usadas para natación o deportes acuáticos.\n",
        "\n",
        "\n",
        "**Conclusión**\n",
        "La presencia de coliformes fecales en niveles superiores a los límites establecidos puede indicar contaminación y representar un riesgo para la salud, lo que hace imprescindible la vigilancia y tratamiento del agua para consumo y recreación."
      ],
      "metadata": {
        "id": "rEq1zDZuqJ-V"
      }
    },
    {
      "cell_type": "markdown",
      "source": [
        "## Problemas\n",
        "- Identificar que tramos de rios se pueden usar para potabilizar el agua y que Tramos son aptos para recreación.\n",
        "- Reportar cuando se viole este límite en el tramo."
      ],
      "metadata": {
        "id": "cVcetMulOwN-"
      }
    },
    {
      "cell_type": "markdown",
      "source": [
        "## Fase 1\n",
        "\n",
        "**Adquisición de Datos**  \n",
        "- Preprocesamiento y Análisis de Datos\n",
        "\n",
        "\n",
        "**TAREAS ESPECIFICAS**\n",
        "\n",
        "- Adquisición de Datos. Escoja un data set que permita evaluar el comportamiento del clima en la región Cundiboyacense.\n",
        "- Preprocesamiento y Análisis de Datos"
      ],
      "metadata": {
        "id": "kuoNswYvW2Ae"
      }
    },
    {
      "cell_type": "code",
      "source": [
        "!pip install sodapy"
      ],
      "metadata": {
        "colab": {
          "base_uri": "https://localhost:8080/"
        },
        "id": "PYFiVa3xq1RH",
        "outputId": "77b3be80-f15d-488d-c688-270a4c1dba71"
      },
      "execution_count": 1,
      "outputs": [
        {
          "output_type": "stream",
          "name": "stdout",
          "text": [
            "Collecting sodapy\n",
            "  Downloading sodapy-2.2.0-py2.py3-none-any.whl.metadata (15 kB)\n",
            "Requirement already satisfied: requests>=2.28.1 in /usr/local/lib/python3.10/dist-packages (from sodapy) (2.32.3)\n",
            "Requirement already satisfied: charset-normalizer<4,>=2 in /usr/local/lib/python3.10/dist-packages (from requests>=2.28.1->sodapy) (3.3.2)\n",
            "Requirement already satisfied: idna<4,>=2.5 in /usr/local/lib/python3.10/dist-packages (from requests>=2.28.1->sodapy) (3.10)\n",
            "Requirement already satisfied: urllib3<3,>=1.21.1 in /usr/local/lib/python3.10/dist-packages (from requests>=2.28.1->sodapy) (2.2.3)\n",
            "Requirement already satisfied: certifi>=2017.4.17 in /usr/local/lib/python3.10/dist-packages (from requests>=2.28.1->sodapy) (2024.8.30)\n",
            "Downloading sodapy-2.2.0-py2.py3-none-any.whl (15 kB)\n",
            "Installing collected packages: sodapy\n",
            "Successfully installed sodapy-2.2.0\n"
          ]
        }
      ]
    },
    {
      "cell_type": "code",
      "execution_count": 2,
      "metadata": {
        "id": "MS-NCmvoqC0h"
      },
      "outputs": [],
      "source": [
        "import pandas as pd\n",
        "import numpy as np\n",
        "import matplotlib.pyplot as plt\n",
        "from sodapy import Socrata"
      ]
    },
    {
      "cell_type": "code",
      "source": [
        "cliente=Socrata('www.datos.gov.co', None)\n",
        "result=cliente.get(\"6p4z-7yzu\")\n",
        "df=pd.DataFrame.from_records(result)\n",
        "df\n",
        "#df[df['estaci_n']=='CUENCA ALTA DEL RÍO CHICAMOCHA. TRAMO 1']"
      ],
      "metadata": {
        "colab": {
          "base_uri": "https://localhost:8080/",
          "height": 894
        },
        "id": "h6N_08WPqmNK",
        "outputId": "88984cb2-3c2f-46b9-9bb8-5f31618ccfa6"
      },
      "execution_count": 3,
      "outputs": [
        {
          "output_type": "stream",
          "name": "stderr",
          "text": [
            "WARNING:root:Requests made without an app_token will be subject to strict throttling limits.\n"
          ]
        },
        {
          "output_type": "execute_result",
          "data": {
            "text/plain": [
              "                   cuenca_y_tramo_seleccione  \\\n",
              "0    CUENCA ALTA DEL RÍO CHICAMOCHA. TRAMO 1   \n",
              "1    CUENCA ALTA DEL RÍO CHICAMOCHA. TRAMO 1   \n",
              "2    CUENCA ALTA DEL RÍO CHICAMOCHA. TRAMO 1   \n",
              "3    CUENCA ALTA DEL RÍO CHICAMOCHA. TRAMO 1   \n",
              "4    CUENCA ALTA DEL RÍO CHICAMOCHA. TRAMO 1   \n",
              "..                                       ...   \n",
              "147                       RÍO MINERO TRAMO 2   \n",
              "148                       RÍO MINERO TRAMO 2   \n",
              "149                       RÍO MINERO TRAMO 2   \n",
              "150                       RÍO MINERO TRAMO 2   \n",
              "151                       RÍO MINERO TRAMO 2   \n",
              "\n",
              "                                    estaci_n municipio_lista_desplegable  \\\n",
              "0    CUENCA ALTA DEL RÍO CHICAMOCHA. TRAMO 1                       Tunja   \n",
              "1    CUENCA ALTA DEL RÍO CHICAMOCHA. TRAMO 1                       Tunja   \n",
              "2    CUENCA ALTA DEL RÍO CHICAMOCHA. TRAMO 1                       Tunja   \n",
              "3    CUENCA ALTA DEL RÍO CHICAMOCHA. TRAMO 1                       Tunja   \n",
              "4    CUENCA ALTA DEL RÍO CHICAMOCHA. TRAMO 1                       Tunja   \n",
              "..                                       ...                         ...   \n",
              "147        Quebrada Paunera Despues Manotera                       PAUNA   \n",
              "148           Rio Ibacapi Tunungua y Briceño                       PAUNA   \n",
              "149       Quebrada Buri - Buri CP San Martín         SAN PABLO DE BORBUR   \n",
              "150                        Quebrada Tambrias                     OTANCHE   \n",
              "151     Rio Minero Estacion Final Otro Mundo                     OTANCHE   \n",
              "\n",
              "    fecha_de_muestreo        coordenadas_geogr_ficas  \\\n",
              "0          15/04/2021         N:5°30'2.2W:73°22'21.9   \n",
              "1          15/04/2021         N:5°33'11.4W:73°21'4.1   \n",
              "2          16/04/2021        N:5°33'32.2W:73°21'55.8   \n",
              "3          16/04/2021         N:5°33'13.8W:73°21'4.7   \n",
              "4          17/04/2021        N:5°34'19.6W:73°19'54.9   \n",
              "..                ...                            ...   \n",
              "147         7/07/2021  N:  5°40'26.52\"W: 73°59'56.73   \n",
              "148         8/07/2021    N:  5°40'17.26\"W: 74°7'2.70   \n",
              "149         7/07/2021   N:  5°43'53.14\"W: 74°0'49.47   \n",
              "150         8/07/2021   N:  5°40'9.20\"W: 74°10'22.23   \n",
              "151         9/07/2021    N:  5°49'3.90\"W: 74°4'43.55   \n",
              "\n",
              "    caudal_de_la_corriente_m3 dbo_mg_l sst_mg_l dqo_mg_l  \\\n",
              "0                   0.0004968       19        7       45   \n",
              "1                       2.728       15        6       37   \n",
              "2                      10.039        3       <5       23   \n",
              "3                      11.708        3       <5       28   \n",
              "4                      71.132       75       51      168   \n",
              "..                        ...      ...      ...      ...   \n",
              "147                   0.23766       <2        9       <5   \n",
              "148                   0.28187       <2        8       <5   \n",
              "149                  10.45334       <2       41       16   \n",
              "150                   0.31767       <2        8        8   \n",
              "151                     64.05        2      134       22   \n",
              "\n",
              "    oxigeno_disuelto_mg_l coliformes_fecales_nmp_100ml ph_unidades_de_ph  \\\n",
              "0                    1.32                         9080              6.82   \n",
              "1                     3.2                         7270              7.56   \n",
              "2                    4.66                           16              7.14   \n",
              "3                    5.71                        135.4              7.83   \n",
              "4                    0.55                      6950000              7.65   \n",
              "..                    ...                          ...               ...   \n",
              "147           6.01 - 6.86                    1.17x10^5       8.20 - 8.26   \n",
              "148           5.49 - 5.54                    1.66x10^4       6.92 - 7.02   \n",
              "149           6.10 - 6.91                     6.3x10^4       8.48 - 8.50   \n",
              "150           5.60 - 6.28                     7.4x10^5       8.08 - 8.14   \n",
              "151            5.70- 6.24                     1.8x10^4       7.99 - 8.20   \n",
              "\n",
              "    conductividad_el_ctrica_us  \n",
              "0                          313  \n",
              "1                          450  \n",
              "2                          226  \n",
              "3                          240  \n",
              "4                          515  \n",
              "..                         ...  \n",
              "147                  333 - 362  \n",
              "148                97.2 - 99.8  \n",
              "149                  424 - 466  \n",
              "150                  299 - 328  \n",
              "151                  553 - 558  \n",
              "\n",
              "[152 rows x 13 columns]"
            ],
            "text/html": [
              "\n",
              "  <div id=\"df-15082c3f-cbe6-40ad-b0f2-c9d8f44bc239\" class=\"colab-df-container\">\n",
              "    <div>\n",
              "<style scoped>\n",
              "    .dataframe tbody tr th:only-of-type {\n",
              "        vertical-align: middle;\n",
              "    }\n",
              "\n",
              "    .dataframe tbody tr th {\n",
              "        vertical-align: top;\n",
              "    }\n",
              "\n",
              "    .dataframe thead th {\n",
              "        text-align: right;\n",
              "    }\n",
              "</style>\n",
              "<table border=\"1\" class=\"dataframe\">\n",
              "  <thead>\n",
              "    <tr style=\"text-align: right;\">\n",
              "      <th></th>\n",
              "      <th>cuenca_y_tramo_seleccione</th>\n",
              "      <th>estaci_n</th>\n",
              "      <th>municipio_lista_desplegable</th>\n",
              "      <th>fecha_de_muestreo</th>\n",
              "      <th>coordenadas_geogr_ficas</th>\n",
              "      <th>caudal_de_la_corriente_m3</th>\n",
              "      <th>dbo_mg_l</th>\n",
              "      <th>sst_mg_l</th>\n",
              "      <th>dqo_mg_l</th>\n",
              "      <th>oxigeno_disuelto_mg_l</th>\n",
              "      <th>coliformes_fecales_nmp_100ml</th>\n",
              "      <th>ph_unidades_de_ph</th>\n",
              "      <th>conductividad_el_ctrica_us</th>\n",
              "    </tr>\n",
              "  </thead>\n",
              "  <tbody>\n",
              "    <tr>\n",
              "      <th>0</th>\n",
              "      <td>CUENCA ALTA DEL RÍO CHICAMOCHA. TRAMO 1</td>\n",
              "      <td>CUENCA ALTA DEL RÍO CHICAMOCHA. TRAMO 1</td>\n",
              "      <td>Tunja</td>\n",
              "      <td>15/04/2021</td>\n",
              "      <td>N:5°30'2.2W:73°22'21.9</td>\n",
              "      <td>0.0004968</td>\n",
              "      <td>19</td>\n",
              "      <td>7</td>\n",
              "      <td>45</td>\n",
              "      <td>1.32</td>\n",
              "      <td>9080</td>\n",
              "      <td>6.82</td>\n",
              "      <td>313</td>\n",
              "    </tr>\n",
              "    <tr>\n",
              "      <th>1</th>\n",
              "      <td>CUENCA ALTA DEL RÍO CHICAMOCHA. TRAMO 1</td>\n",
              "      <td>CUENCA ALTA DEL RÍO CHICAMOCHA. TRAMO 1</td>\n",
              "      <td>Tunja</td>\n",
              "      <td>15/04/2021</td>\n",
              "      <td>N:5°33'11.4W:73°21'4.1</td>\n",
              "      <td>2.728</td>\n",
              "      <td>15</td>\n",
              "      <td>6</td>\n",
              "      <td>37</td>\n",
              "      <td>3.2</td>\n",
              "      <td>7270</td>\n",
              "      <td>7.56</td>\n",
              "      <td>450</td>\n",
              "    </tr>\n",
              "    <tr>\n",
              "      <th>2</th>\n",
              "      <td>CUENCA ALTA DEL RÍO CHICAMOCHA. TRAMO 1</td>\n",
              "      <td>CUENCA ALTA DEL RÍO CHICAMOCHA. TRAMO 1</td>\n",
              "      <td>Tunja</td>\n",
              "      <td>16/04/2021</td>\n",
              "      <td>N:5°33'32.2W:73°21'55.8</td>\n",
              "      <td>10.039</td>\n",
              "      <td>3</td>\n",
              "      <td>&lt;5</td>\n",
              "      <td>23</td>\n",
              "      <td>4.66</td>\n",
              "      <td>16</td>\n",
              "      <td>7.14</td>\n",
              "      <td>226</td>\n",
              "    </tr>\n",
              "    <tr>\n",
              "      <th>3</th>\n",
              "      <td>CUENCA ALTA DEL RÍO CHICAMOCHA. TRAMO 1</td>\n",
              "      <td>CUENCA ALTA DEL RÍO CHICAMOCHA. TRAMO 1</td>\n",
              "      <td>Tunja</td>\n",
              "      <td>16/04/2021</td>\n",
              "      <td>N:5°33'13.8W:73°21'4.7</td>\n",
              "      <td>11.708</td>\n",
              "      <td>3</td>\n",
              "      <td>&lt;5</td>\n",
              "      <td>28</td>\n",
              "      <td>5.71</td>\n",
              "      <td>135.4</td>\n",
              "      <td>7.83</td>\n",
              "      <td>240</td>\n",
              "    </tr>\n",
              "    <tr>\n",
              "      <th>4</th>\n",
              "      <td>CUENCA ALTA DEL RÍO CHICAMOCHA. TRAMO 1</td>\n",
              "      <td>CUENCA ALTA DEL RÍO CHICAMOCHA. TRAMO 1</td>\n",
              "      <td>Tunja</td>\n",
              "      <td>17/04/2021</td>\n",
              "      <td>N:5°34'19.6W:73°19'54.9</td>\n",
              "      <td>71.132</td>\n",
              "      <td>75</td>\n",
              "      <td>51</td>\n",
              "      <td>168</td>\n",
              "      <td>0.55</td>\n",
              "      <td>6950000</td>\n",
              "      <td>7.65</td>\n",
              "      <td>515</td>\n",
              "    </tr>\n",
              "    <tr>\n",
              "      <th>...</th>\n",
              "      <td>...</td>\n",
              "      <td>...</td>\n",
              "      <td>...</td>\n",
              "      <td>...</td>\n",
              "      <td>...</td>\n",
              "      <td>...</td>\n",
              "      <td>...</td>\n",
              "      <td>...</td>\n",
              "      <td>...</td>\n",
              "      <td>...</td>\n",
              "      <td>...</td>\n",
              "      <td>...</td>\n",
              "      <td>...</td>\n",
              "    </tr>\n",
              "    <tr>\n",
              "      <th>147</th>\n",
              "      <td>RÍO MINERO TRAMO 2</td>\n",
              "      <td>Quebrada Paunera Despues Manotera</td>\n",
              "      <td>PAUNA</td>\n",
              "      <td>7/07/2021</td>\n",
              "      <td>N:  5°40'26.52\"W: 73°59'56.73</td>\n",
              "      <td>0.23766</td>\n",
              "      <td>&lt;2</td>\n",
              "      <td>9</td>\n",
              "      <td>&lt;5</td>\n",
              "      <td>6.01 - 6.86</td>\n",
              "      <td>1.17x10^5</td>\n",
              "      <td>8.20 - 8.26</td>\n",
              "      <td>333 - 362</td>\n",
              "    </tr>\n",
              "    <tr>\n",
              "      <th>148</th>\n",
              "      <td>RÍO MINERO TRAMO 2</td>\n",
              "      <td>Rio Ibacapi Tunungua y Briceño</td>\n",
              "      <td>PAUNA</td>\n",
              "      <td>8/07/2021</td>\n",
              "      <td>N:  5°40'17.26\"W: 74°7'2.70</td>\n",
              "      <td>0.28187</td>\n",
              "      <td>&lt;2</td>\n",
              "      <td>8</td>\n",
              "      <td>&lt;5</td>\n",
              "      <td>5.49 - 5.54</td>\n",
              "      <td>1.66x10^4</td>\n",
              "      <td>6.92 - 7.02</td>\n",
              "      <td>97.2 - 99.8</td>\n",
              "    </tr>\n",
              "    <tr>\n",
              "      <th>149</th>\n",
              "      <td>RÍO MINERO TRAMO 2</td>\n",
              "      <td>Quebrada Buri - Buri CP San Martín</td>\n",
              "      <td>SAN PABLO DE BORBUR</td>\n",
              "      <td>7/07/2021</td>\n",
              "      <td>N:  5°43'53.14\"W: 74°0'49.47</td>\n",
              "      <td>10.45334</td>\n",
              "      <td>&lt;2</td>\n",
              "      <td>41</td>\n",
              "      <td>16</td>\n",
              "      <td>6.10 - 6.91</td>\n",
              "      <td>6.3x10^4</td>\n",
              "      <td>8.48 - 8.50</td>\n",
              "      <td>424 - 466</td>\n",
              "    </tr>\n",
              "    <tr>\n",
              "      <th>150</th>\n",
              "      <td>RÍO MINERO TRAMO 2</td>\n",
              "      <td>Quebrada Tambrias</td>\n",
              "      <td>OTANCHE</td>\n",
              "      <td>8/07/2021</td>\n",
              "      <td>N:  5°40'9.20\"W: 74°10'22.23</td>\n",
              "      <td>0.31767</td>\n",
              "      <td>&lt;2</td>\n",
              "      <td>8</td>\n",
              "      <td>8</td>\n",
              "      <td>5.60 - 6.28</td>\n",
              "      <td>7.4x10^5</td>\n",
              "      <td>8.08 - 8.14</td>\n",
              "      <td>299 - 328</td>\n",
              "    </tr>\n",
              "    <tr>\n",
              "      <th>151</th>\n",
              "      <td>RÍO MINERO TRAMO 2</td>\n",
              "      <td>Rio Minero Estacion Final Otro Mundo</td>\n",
              "      <td>OTANCHE</td>\n",
              "      <td>9/07/2021</td>\n",
              "      <td>N:  5°49'3.90\"W: 74°4'43.55</td>\n",
              "      <td>64.05</td>\n",
              "      <td>2</td>\n",
              "      <td>134</td>\n",
              "      <td>22</td>\n",
              "      <td>5.70- 6.24</td>\n",
              "      <td>1.8x10^4</td>\n",
              "      <td>7.99 - 8.20</td>\n",
              "      <td>553 - 558</td>\n",
              "    </tr>\n",
              "  </tbody>\n",
              "</table>\n",
              "<p>152 rows × 13 columns</p>\n",
              "</div>\n",
              "    <div class=\"colab-df-buttons\">\n",
              "\n",
              "  <div class=\"colab-df-container\">\n",
              "    <button class=\"colab-df-convert\" onclick=\"convertToInteractive('df-15082c3f-cbe6-40ad-b0f2-c9d8f44bc239')\"\n",
              "            title=\"Convert this dataframe to an interactive table.\"\n",
              "            style=\"display:none;\">\n",
              "\n",
              "  <svg xmlns=\"http://www.w3.org/2000/svg\" height=\"24px\" viewBox=\"0 -960 960 960\">\n",
              "    <path d=\"M120-120v-720h720v720H120Zm60-500h600v-160H180v160Zm220 220h160v-160H400v160Zm0 220h160v-160H400v160ZM180-400h160v-160H180v160Zm440 0h160v-160H620v160ZM180-180h160v-160H180v160Zm440 0h160v-160H620v160Z\"/>\n",
              "  </svg>\n",
              "    </button>\n",
              "\n",
              "  <style>\n",
              "    .colab-df-container {\n",
              "      display:flex;\n",
              "      gap: 12px;\n",
              "    }\n",
              "\n",
              "    .colab-df-convert {\n",
              "      background-color: #E8F0FE;\n",
              "      border: none;\n",
              "      border-radius: 50%;\n",
              "      cursor: pointer;\n",
              "      display: none;\n",
              "      fill: #1967D2;\n",
              "      height: 32px;\n",
              "      padding: 0 0 0 0;\n",
              "      width: 32px;\n",
              "    }\n",
              "\n",
              "    .colab-df-convert:hover {\n",
              "      background-color: #E2EBFA;\n",
              "      box-shadow: 0px 1px 2px rgba(60, 64, 67, 0.3), 0px 1px 3px 1px rgba(60, 64, 67, 0.15);\n",
              "      fill: #174EA6;\n",
              "    }\n",
              "\n",
              "    .colab-df-buttons div {\n",
              "      margin-bottom: 4px;\n",
              "    }\n",
              "\n",
              "    [theme=dark] .colab-df-convert {\n",
              "      background-color: #3B4455;\n",
              "      fill: #D2E3FC;\n",
              "    }\n",
              "\n",
              "    [theme=dark] .colab-df-convert:hover {\n",
              "      background-color: #434B5C;\n",
              "      box-shadow: 0px 1px 3px 1px rgba(0, 0, 0, 0.15);\n",
              "      filter: drop-shadow(0px 1px 2px rgba(0, 0, 0, 0.3));\n",
              "      fill: #FFFFFF;\n",
              "    }\n",
              "  </style>\n",
              "\n",
              "    <script>\n",
              "      const buttonEl =\n",
              "        document.querySelector('#df-15082c3f-cbe6-40ad-b0f2-c9d8f44bc239 button.colab-df-convert');\n",
              "      buttonEl.style.display =\n",
              "        google.colab.kernel.accessAllowed ? 'block' : 'none';\n",
              "\n",
              "      async function convertToInteractive(key) {\n",
              "        const element = document.querySelector('#df-15082c3f-cbe6-40ad-b0f2-c9d8f44bc239');\n",
              "        const dataTable =\n",
              "          await google.colab.kernel.invokeFunction('convertToInteractive',\n",
              "                                                    [key], {});\n",
              "        if (!dataTable) return;\n",
              "\n",
              "        const docLinkHtml = 'Like what you see? Visit the ' +\n",
              "          '<a target=\"_blank\" href=https://colab.research.google.com/notebooks/data_table.ipynb>data table notebook</a>'\n",
              "          + ' to learn more about interactive tables.';\n",
              "        element.innerHTML = '';\n",
              "        dataTable['output_type'] = 'display_data';\n",
              "        await google.colab.output.renderOutput(dataTable, element);\n",
              "        const docLink = document.createElement('div');\n",
              "        docLink.innerHTML = docLinkHtml;\n",
              "        element.appendChild(docLink);\n",
              "      }\n",
              "    </script>\n",
              "  </div>\n",
              "\n",
              "\n",
              "<div id=\"df-3bae15e7-c7bf-439a-b4be-73183909d3f8\">\n",
              "  <button class=\"colab-df-quickchart\" onclick=\"quickchart('df-3bae15e7-c7bf-439a-b4be-73183909d3f8')\"\n",
              "            title=\"Suggest charts\"\n",
              "            style=\"display:none;\">\n",
              "\n",
              "<svg xmlns=\"http://www.w3.org/2000/svg\" height=\"24px\"viewBox=\"0 0 24 24\"\n",
              "     width=\"24px\">\n",
              "    <g>\n",
              "        <path d=\"M19 3H5c-1.1 0-2 .9-2 2v14c0 1.1.9 2 2 2h14c1.1 0 2-.9 2-2V5c0-1.1-.9-2-2-2zM9 17H7v-7h2v7zm4 0h-2V7h2v10zm4 0h-2v-4h2v4z\"/>\n",
              "    </g>\n",
              "</svg>\n",
              "  </button>\n",
              "\n",
              "<style>\n",
              "  .colab-df-quickchart {\n",
              "      --bg-color: #E8F0FE;\n",
              "      --fill-color: #1967D2;\n",
              "      --hover-bg-color: #E2EBFA;\n",
              "      --hover-fill-color: #174EA6;\n",
              "      --disabled-fill-color: #AAA;\n",
              "      --disabled-bg-color: #DDD;\n",
              "  }\n",
              "\n",
              "  [theme=dark] .colab-df-quickchart {\n",
              "      --bg-color: #3B4455;\n",
              "      --fill-color: #D2E3FC;\n",
              "      --hover-bg-color: #434B5C;\n",
              "      --hover-fill-color: #FFFFFF;\n",
              "      --disabled-bg-color: #3B4455;\n",
              "      --disabled-fill-color: #666;\n",
              "  }\n",
              "\n",
              "  .colab-df-quickchart {\n",
              "    background-color: var(--bg-color);\n",
              "    border: none;\n",
              "    border-radius: 50%;\n",
              "    cursor: pointer;\n",
              "    display: none;\n",
              "    fill: var(--fill-color);\n",
              "    height: 32px;\n",
              "    padding: 0;\n",
              "    width: 32px;\n",
              "  }\n",
              "\n",
              "  .colab-df-quickchart:hover {\n",
              "    background-color: var(--hover-bg-color);\n",
              "    box-shadow: 0 1px 2px rgba(60, 64, 67, 0.3), 0 1px 3px 1px rgba(60, 64, 67, 0.15);\n",
              "    fill: var(--button-hover-fill-color);\n",
              "  }\n",
              "\n",
              "  .colab-df-quickchart-complete:disabled,\n",
              "  .colab-df-quickchart-complete:disabled:hover {\n",
              "    background-color: var(--disabled-bg-color);\n",
              "    fill: var(--disabled-fill-color);\n",
              "    box-shadow: none;\n",
              "  }\n",
              "\n",
              "  .colab-df-spinner {\n",
              "    border: 2px solid var(--fill-color);\n",
              "    border-color: transparent;\n",
              "    border-bottom-color: var(--fill-color);\n",
              "    animation:\n",
              "      spin 1s steps(1) infinite;\n",
              "  }\n",
              "\n",
              "  @keyframes spin {\n",
              "    0% {\n",
              "      border-color: transparent;\n",
              "      border-bottom-color: var(--fill-color);\n",
              "      border-left-color: var(--fill-color);\n",
              "    }\n",
              "    20% {\n",
              "      border-color: transparent;\n",
              "      border-left-color: var(--fill-color);\n",
              "      border-top-color: var(--fill-color);\n",
              "    }\n",
              "    30% {\n",
              "      border-color: transparent;\n",
              "      border-left-color: var(--fill-color);\n",
              "      border-top-color: var(--fill-color);\n",
              "      border-right-color: var(--fill-color);\n",
              "    }\n",
              "    40% {\n",
              "      border-color: transparent;\n",
              "      border-right-color: var(--fill-color);\n",
              "      border-top-color: var(--fill-color);\n",
              "    }\n",
              "    60% {\n",
              "      border-color: transparent;\n",
              "      border-right-color: var(--fill-color);\n",
              "    }\n",
              "    80% {\n",
              "      border-color: transparent;\n",
              "      border-right-color: var(--fill-color);\n",
              "      border-bottom-color: var(--fill-color);\n",
              "    }\n",
              "    90% {\n",
              "      border-color: transparent;\n",
              "      border-bottom-color: var(--fill-color);\n",
              "    }\n",
              "  }\n",
              "</style>\n",
              "\n",
              "  <script>\n",
              "    async function quickchart(key) {\n",
              "      const quickchartButtonEl =\n",
              "        document.querySelector('#' + key + ' button');\n",
              "      quickchartButtonEl.disabled = true;  // To prevent multiple clicks.\n",
              "      quickchartButtonEl.classList.add('colab-df-spinner');\n",
              "      try {\n",
              "        const charts = await google.colab.kernel.invokeFunction(\n",
              "            'suggestCharts', [key], {});\n",
              "      } catch (error) {\n",
              "        console.error('Error during call to suggestCharts:', error);\n",
              "      }\n",
              "      quickchartButtonEl.classList.remove('colab-df-spinner');\n",
              "      quickchartButtonEl.classList.add('colab-df-quickchart-complete');\n",
              "    }\n",
              "    (() => {\n",
              "      let quickchartButtonEl =\n",
              "        document.querySelector('#df-3bae15e7-c7bf-439a-b4be-73183909d3f8 button');\n",
              "      quickchartButtonEl.style.display =\n",
              "        google.colab.kernel.accessAllowed ? 'block' : 'none';\n",
              "    })();\n",
              "  </script>\n",
              "</div>\n",
              "\n",
              "  <div id=\"id_b11ccb85-fa6c-468b-bb16-22b57fba8edd\">\n",
              "    <style>\n",
              "      .colab-df-generate {\n",
              "        background-color: #E8F0FE;\n",
              "        border: none;\n",
              "        border-radius: 50%;\n",
              "        cursor: pointer;\n",
              "        display: none;\n",
              "        fill: #1967D2;\n",
              "        height: 32px;\n",
              "        padding: 0 0 0 0;\n",
              "        width: 32px;\n",
              "      }\n",
              "\n",
              "      .colab-df-generate:hover {\n",
              "        background-color: #E2EBFA;\n",
              "        box-shadow: 0px 1px 2px rgba(60, 64, 67, 0.3), 0px 1px 3px 1px rgba(60, 64, 67, 0.15);\n",
              "        fill: #174EA6;\n",
              "      }\n",
              "\n",
              "      [theme=dark] .colab-df-generate {\n",
              "        background-color: #3B4455;\n",
              "        fill: #D2E3FC;\n",
              "      }\n",
              "\n",
              "      [theme=dark] .colab-df-generate:hover {\n",
              "        background-color: #434B5C;\n",
              "        box-shadow: 0px 1px 3px 1px rgba(0, 0, 0, 0.15);\n",
              "        filter: drop-shadow(0px 1px 2px rgba(0, 0, 0, 0.3));\n",
              "        fill: #FFFFFF;\n",
              "      }\n",
              "    </style>\n",
              "    <button class=\"colab-df-generate\" onclick=\"generateWithVariable('df')\"\n",
              "            title=\"Generate code using this dataframe.\"\n",
              "            style=\"display:none;\">\n",
              "\n",
              "  <svg xmlns=\"http://www.w3.org/2000/svg\" height=\"24px\"viewBox=\"0 0 24 24\"\n",
              "       width=\"24px\">\n",
              "    <path d=\"M7,19H8.4L18.45,9,17,7.55,7,17.6ZM5,21V16.75L18.45,3.32a2,2,0,0,1,2.83,0l1.4,1.43a1.91,1.91,0,0,1,.58,1.4,1.91,1.91,0,0,1-.58,1.4L9.25,21ZM18.45,9,17,7.55Zm-12,3A5.31,5.31,0,0,0,4.9,8.1,5.31,5.31,0,0,0,1,6.5,5.31,5.31,0,0,0,4.9,4.9,5.31,5.31,0,0,0,6.5,1,5.31,5.31,0,0,0,8.1,4.9,5.31,5.31,0,0,0,12,6.5,5.46,5.46,0,0,0,6.5,12Z\"/>\n",
              "  </svg>\n",
              "    </button>\n",
              "    <script>\n",
              "      (() => {\n",
              "      const buttonEl =\n",
              "        document.querySelector('#id_b11ccb85-fa6c-468b-bb16-22b57fba8edd button.colab-df-generate');\n",
              "      buttonEl.style.display =\n",
              "        google.colab.kernel.accessAllowed ? 'block' : 'none';\n",
              "\n",
              "      buttonEl.onclick = () => {\n",
              "        google.colab.notebook.generateWithVariable('df');\n",
              "      }\n",
              "      })();\n",
              "    </script>\n",
              "  </div>\n",
              "\n",
              "    </div>\n",
              "  </div>\n"
            ],
            "application/vnd.google.colaboratory.intrinsic+json": {
              "type": "dataframe",
              "variable_name": "df",
              "summary": "{\n  \"name\": \"df\",\n  \"rows\": 152,\n  \"fields\": [\n    {\n      \"column\": \"cuenca_y_tramo_seleccione\",\n      \"properties\": {\n        \"dtype\": \"category\",\n        \"num_unique_values\": 18,\n        \"samples\": [\n          \"CUENCA ALTA DEL R\\u00cdO CHICAMOCHA. TRAMO 1\",\n          \"CUENCA ALTA DEL R\\u00cdO CHICAMOCHA. TRAMO 2\",\n          \"RIO SUAREZ. TRAMO 2\"\n        ],\n        \"semantic_type\": \"\",\n        \"description\": \"\"\n      }\n    },\n    {\n      \"column\": \"estaci_n\",\n      \"properties\": {\n        \"dtype\": \"string\",\n        \"num_unique_values\": 114,\n        \"samples\": [\n          \"RIO TOTA AGUAS ABAJO MUNICIPIO TOTA\",\n          \"CUENCA ALTA DEL R\\u00cdO CHICAMOCHA. TRAMO 5\",\n          \"RIO TINJACA - DESCARGA TINJACA\"\n        ],\n        \"semantic_type\": \"\",\n        \"description\": \"\"\n      }\n    },\n    {\n      \"column\": \"municipio_lista_desplegable\",\n      \"properties\": {\n        \"dtype\": \"category\",\n        \"num_unique_values\": 47,\n        \"samples\": [\n          \"GACHANTIVA\",\n          \"SOGAMOSO\",\n          \"VILLA DE LEYVA\"\n        ],\n        \"semantic_type\": \"\",\n        \"description\": \"\"\n      }\n    },\n    {\n      \"column\": \"fecha_de_muestreo\",\n      \"properties\": {\n        \"dtype\": \"string\",\n        \"num_unique_values\": 78,\n        \"samples\": [\n          \"10/07/2021\",\n          \"15/04/2021\",\n          \"11/07/2021\"\n        ],\n        \"semantic_type\": \"\",\n        \"description\": \"\"\n      }\n    },\n    {\n      \"column\": \"coordenadas_geogr_ficas\",\n      \"properties\": {\n        \"dtype\": \"string\",\n        \"num_unique_values\": 152,\n        \"samples\": [\n          \"N:05\\u00b012' 42.6W:73\\u00b006'58.4\",\n          \"N:  5\\u00b040'26.52\\\"W: 73\\u00b059'56.73\",\n          \"N:5\\u00b057'29.6W:73\\u00b035'23.1\"\n        ],\n        \"semantic_type\": \"\",\n        \"description\": \"\"\n      }\n    },\n    {\n      \"column\": \"caudal_de_la_corriente_m3\",\n      \"properties\": {\n        \"dtype\": \"string\",\n        \"num_unique_values\": 150,\n        \"samples\": [\n          \"4.525\",\n          \"4.099\",\n          \"0.12428\"\n        ],\n        \"semantic_type\": \"\",\n        \"description\": \"\"\n      }\n    },\n    {\n      \"column\": \"dbo_mg_l\",\n      \"properties\": {\n        \"dtype\": \"category\",\n        \"num_unique_values\": 23,\n        \"samples\": [\n          \"8\",\n          \"2\",\n          \"19\"\n        ],\n        \"semantic_type\": \"\",\n        \"description\": \"\"\n      }\n    },\n    {\n      \"column\": \"sst_mg_l\",\n      \"properties\": {\n        \"dtype\": \"string\",\n        \"num_unique_values\": 87,\n        \"samples\": [\n          \"21\",\n          \"7\",\n          \"215\"\n        ],\n        \"semantic_type\": \"\",\n        \"description\": \"\"\n      }\n    },\n    {\n      \"column\": \"dqo_mg_l\",\n      \"properties\": {\n        \"dtype\": \"category\",\n        \"num_unique_values\": 59,\n        \"samples\": [\n          \"45\",\n          \"53\",\n          \"10\"\n        ],\n        \"semantic_type\": \"\",\n        \"description\": \"\"\n      }\n    },\n    {\n      \"column\": \"oxigeno_disuelto_mg_l\",\n      \"properties\": {\n        \"dtype\": \"string\",\n        \"num_unique_values\": 148,\n        \"samples\": [\n          \"5.26-5.29\",\n          \"7.55\",\n          \"6.46 - 6.91\"\n        ],\n        \"semantic_type\": \"\",\n        \"description\": \"\"\n      }\n    },\n    {\n      \"column\": \"coliformes_fecales_nmp_100ml\",\n      \"properties\": {\n        \"dtype\": \"string\",\n        \"num_unique_values\": 143,\n        \"samples\": [\n          \"6.89x10^3\",\n          \"7590\",\n          \"620000\"\n        ],\n        \"semantic_type\": \"\",\n        \"description\": \"\"\n      }\n    },\n    {\n      \"column\": \"ph_unidades_de_ph\",\n      \"properties\": {\n        \"dtype\": \"string\",\n        \"num_unique_values\": 147,\n        \"samples\": [\n          \"7.41-7.59\",\n          \"7.78 - 7.99\",\n          \"8.15 - 8.17\"\n        ],\n        \"semantic_type\": \"\",\n        \"description\": \"\"\n      }\n    },\n    {\n      \"column\": \"conductividad_el_ctrica_us\",\n      \"properties\": {\n        \"dtype\": \"string\",\n        \"num_unique_values\": 150,\n        \"samples\": [\n          \"70.1\",\n          \"258-282\",\n          \"185.1\"\n        ],\n        \"semantic_type\": \"\",\n        \"description\": \"\"\n      }\n    }\n  ]\n}"
            }
          },
          "metadata": {},
          "execution_count": 3
        }
      ]
    },
    {
      "cell_type": "code",
      "source": [
        "def convertir(string):\n",
        "  if 'x10^4' in string:\n",
        "    return string.replace('x10^4', 'e4')\n",
        "  elif 'x10^3' in string:\n",
        "    return string.replace('x10^3', 'e3')\n",
        "  elif 'x10^5' in string:\n",
        "    return string.replace('x10^5', 'e5')\n",
        "  else:\n",
        "    return string"
      ],
      "metadata": {
        "id": "yakis0jJRhji"
      },
      "execution_count": 9,
      "outputs": []
    },
    {
      "cell_type": "code",
      "source": [
        "df2=df['coliformes_fecales_nmp_100ml'].apply(convertir)\n",
        "df2"
      ],
      "metadata": {
        "colab": {
          "base_uri": "https://localhost:8080/",
          "height": 458
        },
        "id": "qQ9klmqWSJDn",
        "outputId": "ce95821f-03e4-448e-f244-89046a0faf53"
      },
      "execution_count": 12,
      "outputs": [
        {
          "output_type": "execute_result",
          "data": {
            "text/plain": [
              "0         9080\n",
              "1         7270\n",
              "2           16\n",
              "3        135.4\n",
              "4      6950000\n",
              "        ...   \n",
              "147     1.17e5\n",
              "148     1.66e4\n",
              "149      6.3e4\n",
              "150      7.4e5\n",
              "151      1.8e4\n",
              "Name: coliformes_fecales_nmp_100ml, Length: 152, dtype: object"
            ],
            "text/html": [
              "<div>\n",
              "<style scoped>\n",
              "    .dataframe tbody tr th:only-of-type {\n",
              "        vertical-align: middle;\n",
              "    }\n",
              "\n",
              "    .dataframe tbody tr th {\n",
              "        vertical-align: top;\n",
              "    }\n",
              "\n",
              "    .dataframe thead th {\n",
              "        text-align: right;\n",
              "    }\n",
              "</style>\n",
              "<table border=\"1\" class=\"dataframe\">\n",
              "  <thead>\n",
              "    <tr style=\"text-align: right;\">\n",
              "      <th></th>\n",
              "      <th>coliformes_fecales_nmp_100ml</th>\n",
              "    </tr>\n",
              "  </thead>\n",
              "  <tbody>\n",
              "    <tr>\n",
              "      <th>0</th>\n",
              "      <td>9080</td>\n",
              "    </tr>\n",
              "    <tr>\n",
              "      <th>1</th>\n",
              "      <td>7270</td>\n",
              "    </tr>\n",
              "    <tr>\n",
              "      <th>2</th>\n",
              "      <td>16</td>\n",
              "    </tr>\n",
              "    <tr>\n",
              "      <th>3</th>\n",
              "      <td>135.4</td>\n",
              "    </tr>\n",
              "    <tr>\n",
              "      <th>4</th>\n",
              "      <td>6950000</td>\n",
              "    </tr>\n",
              "    <tr>\n",
              "      <th>...</th>\n",
              "      <td>...</td>\n",
              "    </tr>\n",
              "    <tr>\n",
              "      <th>147</th>\n",
              "      <td>1.17e5</td>\n",
              "    </tr>\n",
              "    <tr>\n",
              "      <th>148</th>\n",
              "      <td>1.66e4</td>\n",
              "    </tr>\n",
              "    <tr>\n",
              "      <th>149</th>\n",
              "      <td>6.3e4</td>\n",
              "    </tr>\n",
              "    <tr>\n",
              "      <th>150</th>\n",
              "      <td>7.4e5</td>\n",
              "    </tr>\n",
              "    <tr>\n",
              "      <th>151</th>\n",
              "      <td>1.8e4</td>\n",
              "    </tr>\n",
              "  </tbody>\n",
              "</table>\n",
              "<p>152 rows × 1 columns</p>\n",
              "</div><br><label><b>dtype:</b> object</label>"
            ]
          },
          "metadata": {},
          "execution_count": 12
        }
      ]
    },
    {
      "cell_type": "code",
      "source": [
        "df_cf=pd.to_numeric(df2, errors='coerce')\n",
        "#df_cf.fillna(df_cf.mean(), inplace=True\n",
        "df_cf.index=df['estaci_n']\n",
        "df_cf"
      ],
      "metadata": {
        "colab": {
          "base_uri": "https://localhost:8080/",
          "height": 489
        },
        "id": "Q2nZpg9PQMtf",
        "outputId": "b1a63d27-7869-4ebc-85f1-d60b09c23105"
      },
      "execution_count": 14,
      "outputs": [
        {
          "output_type": "execute_result",
          "data": {
            "text/plain": [
              "estaci_n\n",
              "CUENCA ALTA DEL RÍO CHICAMOCHA. TRAMO 1       9080.0\n",
              "CUENCA ALTA DEL RÍO CHICAMOCHA. TRAMO 1       7270.0\n",
              "CUENCA ALTA DEL RÍO CHICAMOCHA. TRAMO 1         16.0\n",
              "CUENCA ALTA DEL RÍO CHICAMOCHA. TRAMO 1        135.4\n",
              "CUENCA ALTA DEL RÍO CHICAMOCHA. TRAMO 1    6950000.0\n",
              "                                             ...    \n",
              "Quebrada Paunera Despues Manotera           117000.0\n",
              "Rio Ibacapi Tunungua y Briceño               16600.0\n",
              "Quebrada Buri - Buri CP San Martín           63000.0\n",
              "Quebrada Tambrias                           740000.0\n",
              "Rio Minero Estacion Final Otro Mundo         18000.0\n",
              "Name: coliformes_fecales_nmp_100ml, Length: 152, dtype: float64"
            ],
            "text/html": [
              "<div>\n",
              "<style scoped>\n",
              "    .dataframe tbody tr th:only-of-type {\n",
              "        vertical-align: middle;\n",
              "    }\n",
              "\n",
              "    .dataframe tbody tr th {\n",
              "        vertical-align: top;\n",
              "    }\n",
              "\n",
              "    .dataframe thead th {\n",
              "        text-align: right;\n",
              "    }\n",
              "</style>\n",
              "<table border=\"1\" class=\"dataframe\">\n",
              "  <thead>\n",
              "    <tr style=\"text-align: right;\">\n",
              "      <th></th>\n",
              "      <th>coliformes_fecales_nmp_100ml</th>\n",
              "    </tr>\n",
              "    <tr>\n",
              "      <th>estaci_n</th>\n",
              "      <th></th>\n",
              "    </tr>\n",
              "  </thead>\n",
              "  <tbody>\n",
              "    <tr>\n",
              "      <th>CUENCA ALTA DEL RÍO CHICAMOCHA. TRAMO 1</th>\n",
              "      <td>9080.0</td>\n",
              "    </tr>\n",
              "    <tr>\n",
              "      <th>CUENCA ALTA DEL RÍO CHICAMOCHA. TRAMO 1</th>\n",
              "      <td>7270.0</td>\n",
              "    </tr>\n",
              "    <tr>\n",
              "      <th>CUENCA ALTA DEL RÍO CHICAMOCHA. TRAMO 1</th>\n",
              "      <td>16.0</td>\n",
              "    </tr>\n",
              "    <tr>\n",
              "      <th>CUENCA ALTA DEL RÍO CHICAMOCHA. TRAMO 1</th>\n",
              "      <td>135.4</td>\n",
              "    </tr>\n",
              "    <tr>\n",
              "      <th>CUENCA ALTA DEL RÍO CHICAMOCHA. TRAMO 1</th>\n",
              "      <td>6950000.0</td>\n",
              "    </tr>\n",
              "    <tr>\n",
              "      <th>...</th>\n",
              "      <td>...</td>\n",
              "    </tr>\n",
              "    <tr>\n",
              "      <th>Quebrada Paunera Despues Manotera</th>\n",
              "      <td>117000.0</td>\n",
              "    </tr>\n",
              "    <tr>\n",
              "      <th>Rio Ibacapi Tunungua y Briceño</th>\n",
              "      <td>16600.0</td>\n",
              "    </tr>\n",
              "    <tr>\n",
              "      <th>Quebrada Buri - Buri CP San Martín</th>\n",
              "      <td>63000.0</td>\n",
              "    </tr>\n",
              "    <tr>\n",
              "      <th>Quebrada Tambrias</th>\n",
              "      <td>740000.0</td>\n",
              "    </tr>\n",
              "    <tr>\n",
              "      <th>Rio Minero Estacion Final Otro Mundo</th>\n",
              "      <td>18000.0</td>\n",
              "    </tr>\n",
              "  </tbody>\n",
              "</table>\n",
              "<p>152 rows × 1 columns</p>\n",
              "</div><br><label><b>dtype:</b> float64</label>"
            ]
          },
          "metadata": {},
          "execution_count": 14
        }
      ]
    },
    {
      "cell_type": "code",
      "source": [
        "df_cf.info()"
      ],
      "metadata": {
        "colab": {
          "base_uri": "https://localhost:8080/"
        },
        "id": "oZpJgoK_TaeX",
        "outputId": "41096194-0a0e-4501-948b-415ceb9f9e15"
      },
      "execution_count": 15,
      "outputs": [
        {
          "output_type": "stream",
          "name": "stdout",
          "text": [
            "<class 'pandas.core.series.Series'>\n",
            "Index: 152 entries, CUENCA ALTA DEL RÍO CHICAMOCHA. TRAMO 1 to Rio Minero Estacion Final Otro Mundo\n",
            "Series name: coliformes_fecales_nmp_100ml\n",
            "Non-Null Count  Dtype  \n",
            "--------------  -----  \n",
            "136 non-null    float64\n",
            "dtypes: float64(1)\n",
            "memory usage: 6.4+ KB\n"
          ]
        }
      ]
    },
    {
      "cell_type": "code",
      "source": [
        "df_cf.describe()"
      ],
      "metadata": {
        "colab": {
          "base_uri": "https://localhost:8080/",
          "height": 335
        },
        "id": "UD0mIqXoTeS-",
        "outputId": "c261b4ba-017d-4954-d28a-73b6e5f70fb8"
      },
      "execution_count": 16,
      "outputs": [
        {
          "output_type": "execute_result",
          "data": {
            "text/plain": [
              "count    1.360000e+02\n",
              "mean     7.113240e+05\n",
              "std      4.258026e+06\n",
              "min      1.600000e+01\n",
              "25%      6.932500e+02\n",
              "50%      6.570000e+03\n",
              "75%      2.432500e+04\n",
              "max      4.570000e+07\n",
              "Name: coliformes_fecales_nmp_100ml, dtype: float64"
            ],
            "text/html": [
              "<div>\n",
              "<style scoped>\n",
              "    .dataframe tbody tr th:only-of-type {\n",
              "        vertical-align: middle;\n",
              "    }\n",
              "\n",
              "    .dataframe tbody tr th {\n",
              "        vertical-align: top;\n",
              "    }\n",
              "\n",
              "    .dataframe thead th {\n",
              "        text-align: right;\n",
              "    }\n",
              "</style>\n",
              "<table border=\"1\" class=\"dataframe\">\n",
              "  <thead>\n",
              "    <tr style=\"text-align: right;\">\n",
              "      <th></th>\n",
              "      <th>coliformes_fecales_nmp_100ml</th>\n",
              "    </tr>\n",
              "  </thead>\n",
              "  <tbody>\n",
              "    <tr>\n",
              "      <th>count</th>\n",
              "      <td>1.360000e+02</td>\n",
              "    </tr>\n",
              "    <tr>\n",
              "      <th>mean</th>\n",
              "      <td>7.113240e+05</td>\n",
              "    </tr>\n",
              "    <tr>\n",
              "      <th>std</th>\n",
              "      <td>4.258026e+06</td>\n",
              "    </tr>\n",
              "    <tr>\n",
              "      <th>min</th>\n",
              "      <td>1.600000e+01</td>\n",
              "    </tr>\n",
              "    <tr>\n",
              "      <th>25%</th>\n",
              "      <td>6.932500e+02</td>\n",
              "    </tr>\n",
              "    <tr>\n",
              "      <th>50%</th>\n",
              "      <td>6.570000e+03</td>\n",
              "    </tr>\n",
              "    <tr>\n",
              "      <th>75%</th>\n",
              "      <td>2.432500e+04</td>\n",
              "    </tr>\n",
              "    <tr>\n",
              "      <th>max</th>\n",
              "      <td>4.570000e+07</td>\n",
              "    </tr>\n",
              "  </tbody>\n",
              "</table>\n",
              "</div><br><label><b>dtype:</b> float64</label>"
            ]
          },
          "metadata": {},
          "execution_count": 16
        }
      ]
    },
    {
      "cell_type": "code",
      "source": [
        "def dividir(numero):\n",
        "  if numero < 10000:\n",
        "    return numero\n",
        "  elif numero < 100000:\n",
        "    return numero/10\n",
        "  elif numero < 1000000:\n",
        "    return numero/100\n",
        "  elif numero < 10000000:\n",
        "    return numero/1000"
      ],
      "metadata": {
        "id": "nrjrLpfnQ2K7"
      },
      "execution_count": 17,
      "outputs": []
    },
    {
      "cell_type": "code",
      "source": [
        "df_cf=df_cf.apply(dividir)\n",
        "df_cf"
      ],
      "metadata": {
        "colab": {
          "base_uri": "https://localhost:8080/",
          "height": 489
        },
        "id": "9gT6m-JwUwNS",
        "outputId": "bc602f1b-c980-4928-ba28-d21d89024d67"
      },
      "execution_count": 19,
      "outputs": [
        {
          "output_type": "execute_result",
          "data": {
            "text/plain": [
              "estaci_n\n",
              "CUENCA ALTA DEL RÍO CHICAMOCHA. TRAMO 1    9080.0\n",
              "CUENCA ALTA DEL RÍO CHICAMOCHA. TRAMO 1    7270.0\n",
              "CUENCA ALTA DEL RÍO CHICAMOCHA. TRAMO 1      16.0\n",
              "CUENCA ALTA DEL RÍO CHICAMOCHA. TRAMO 1     135.4\n",
              "CUENCA ALTA DEL RÍO CHICAMOCHA. TRAMO 1    6950.0\n",
              "                                            ...  \n",
              "Quebrada Paunera Despues Manotera          1170.0\n",
              "Rio Ibacapi Tunungua y Briceño             1660.0\n",
              "Quebrada Buri - Buri CP San Martín         6300.0\n",
              "Quebrada Tambrias                          7400.0\n",
              "Rio Minero Estacion Final Otro Mundo       1800.0\n",
              "Name: coliformes_fecales_nmp_100ml, Length: 152, dtype: float64"
            ],
            "text/html": [
              "<div>\n",
              "<style scoped>\n",
              "    .dataframe tbody tr th:only-of-type {\n",
              "        vertical-align: middle;\n",
              "    }\n",
              "\n",
              "    .dataframe tbody tr th {\n",
              "        vertical-align: top;\n",
              "    }\n",
              "\n",
              "    .dataframe thead th {\n",
              "        text-align: right;\n",
              "    }\n",
              "</style>\n",
              "<table border=\"1\" class=\"dataframe\">\n",
              "  <thead>\n",
              "    <tr style=\"text-align: right;\">\n",
              "      <th></th>\n",
              "      <th>coliformes_fecales_nmp_100ml</th>\n",
              "    </tr>\n",
              "    <tr>\n",
              "      <th>estaci_n</th>\n",
              "      <th></th>\n",
              "    </tr>\n",
              "  </thead>\n",
              "  <tbody>\n",
              "    <tr>\n",
              "      <th>CUENCA ALTA DEL RÍO CHICAMOCHA. TRAMO 1</th>\n",
              "      <td>9080.0</td>\n",
              "    </tr>\n",
              "    <tr>\n",
              "      <th>CUENCA ALTA DEL RÍO CHICAMOCHA. TRAMO 1</th>\n",
              "      <td>7270.0</td>\n",
              "    </tr>\n",
              "    <tr>\n",
              "      <th>CUENCA ALTA DEL RÍO CHICAMOCHA. TRAMO 1</th>\n",
              "      <td>16.0</td>\n",
              "    </tr>\n",
              "    <tr>\n",
              "      <th>CUENCA ALTA DEL RÍO CHICAMOCHA. TRAMO 1</th>\n",
              "      <td>135.4</td>\n",
              "    </tr>\n",
              "    <tr>\n",
              "      <th>CUENCA ALTA DEL RÍO CHICAMOCHA. TRAMO 1</th>\n",
              "      <td>6950.0</td>\n",
              "    </tr>\n",
              "    <tr>\n",
              "      <th>...</th>\n",
              "      <td>...</td>\n",
              "    </tr>\n",
              "    <tr>\n",
              "      <th>Quebrada Paunera Despues Manotera</th>\n",
              "      <td>1170.0</td>\n",
              "    </tr>\n",
              "    <tr>\n",
              "      <th>Rio Ibacapi Tunungua y Briceño</th>\n",
              "      <td>1660.0</td>\n",
              "    </tr>\n",
              "    <tr>\n",
              "      <th>Quebrada Buri - Buri CP San Martín</th>\n",
              "      <td>6300.0</td>\n",
              "    </tr>\n",
              "    <tr>\n",
              "      <th>Quebrada Tambrias</th>\n",
              "      <td>7400.0</td>\n",
              "    </tr>\n",
              "    <tr>\n",
              "      <th>Rio Minero Estacion Final Otro Mundo</th>\n",
              "      <td>1800.0</td>\n",
              "    </tr>\n",
              "  </tbody>\n",
              "</table>\n",
              "<p>152 rows × 1 columns</p>\n",
              "</div><br><label><b>dtype:</b> float64</label>"
            ]
          },
          "metadata": {},
          "execution_count": 19
        }
      ]
    },
    {
      "cell_type": "code",
      "source": [
        "df_cf.dropna(inplace=True)\n",
        "df_cf.replace(np.nan, df_cf.mean(), inplace=True)\n",
        "df_cf"
      ],
      "metadata": {
        "colab": {
          "base_uri": "https://localhost:8080/",
          "height": 489
        },
        "id": "gqOW0ZsoWTsX",
        "outputId": "826b12a0-097c-4cbe-f47c-08334e77f5d8"
      },
      "execution_count": 27,
      "outputs": [
        {
          "output_type": "execute_result",
          "data": {
            "text/plain": [
              "estaci_n\n",
              "CUENCA ALTA DEL RÍO CHICAMOCHA. TRAMO 1    9080.0\n",
              "CUENCA ALTA DEL RÍO CHICAMOCHA. TRAMO 1    7270.0\n",
              "CUENCA ALTA DEL RÍO CHICAMOCHA. TRAMO 1      16.0\n",
              "CUENCA ALTA DEL RÍO CHICAMOCHA. TRAMO 1     135.4\n",
              "CUENCA ALTA DEL RÍO CHICAMOCHA. TRAMO 1    6950.0\n",
              "                                            ...  \n",
              "Quebrada Paunera Despues Manotera          1170.0\n",
              "Rio Ibacapi Tunungua y Briceño             1660.0\n",
              "Quebrada Buri - Buri CP San Martín         6300.0\n",
              "Quebrada Tambrias                          7400.0\n",
              "Rio Minero Estacion Final Otro Mundo       1800.0\n",
              "Name: coliformes_fecales_nmp_100ml, Length: 134, dtype: float64"
            ],
            "text/html": [
              "<div>\n",
              "<style scoped>\n",
              "    .dataframe tbody tr th:only-of-type {\n",
              "        vertical-align: middle;\n",
              "    }\n",
              "\n",
              "    .dataframe tbody tr th {\n",
              "        vertical-align: top;\n",
              "    }\n",
              "\n",
              "    .dataframe thead th {\n",
              "        text-align: right;\n",
              "    }\n",
              "</style>\n",
              "<table border=\"1\" class=\"dataframe\">\n",
              "  <thead>\n",
              "    <tr style=\"text-align: right;\">\n",
              "      <th></th>\n",
              "      <th>coliformes_fecales_nmp_100ml</th>\n",
              "    </tr>\n",
              "    <tr>\n",
              "      <th>estaci_n</th>\n",
              "      <th></th>\n",
              "    </tr>\n",
              "  </thead>\n",
              "  <tbody>\n",
              "    <tr>\n",
              "      <th>CUENCA ALTA DEL RÍO CHICAMOCHA. TRAMO 1</th>\n",
              "      <td>9080.0</td>\n",
              "    </tr>\n",
              "    <tr>\n",
              "      <th>CUENCA ALTA DEL RÍO CHICAMOCHA. TRAMO 1</th>\n",
              "      <td>7270.0</td>\n",
              "    </tr>\n",
              "    <tr>\n",
              "      <th>CUENCA ALTA DEL RÍO CHICAMOCHA. TRAMO 1</th>\n",
              "      <td>16.0</td>\n",
              "    </tr>\n",
              "    <tr>\n",
              "      <th>CUENCA ALTA DEL RÍO CHICAMOCHA. TRAMO 1</th>\n",
              "      <td>135.4</td>\n",
              "    </tr>\n",
              "    <tr>\n",
              "      <th>CUENCA ALTA DEL RÍO CHICAMOCHA. TRAMO 1</th>\n",
              "      <td>6950.0</td>\n",
              "    </tr>\n",
              "    <tr>\n",
              "      <th>...</th>\n",
              "      <td>...</td>\n",
              "    </tr>\n",
              "    <tr>\n",
              "      <th>Quebrada Paunera Despues Manotera</th>\n",
              "      <td>1170.0</td>\n",
              "    </tr>\n",
              "    <tr>\n",
              "      <th>Rio Ibacapi Tunungua y Briceño</th>\n",
              "      <td>1660.0</td>\n",
              "    </tr>\n",
              "    <tr>\n",
              "      <th>Quebrada Buri - Buri CP San Martín</th>\n",
              "      <td>6300.0</td>\n",
              "    </tr>\n",
              "    <tr>\n",
              "      <th>Quebrada Tambrias</th>\n",
              "      <td>7400.0</td>\n",
              "    </tr>\n",
              "    <tr>\n",
              "      <th>Rio Minero Estacion Final Otro Mundo</th>\n",
              "      <td>1800.0</td>\n",
              "    </tr>\n",
              "  </tbody>\n",
              "</table>\n",
              "<p>134 rows × 1 columns</p>\n",
              "</div><br><label><b>dtype:</b> float64</label>"
            ]
          },
          "metadata": {},
          "execution_count": 27
        }
      ]
    },
    {
      "cell_type": "code",
      "source": [
        "df_cf.describe()"
      ],
      "metadata": {
        "colab": {
          "base_uri": "https://localhost:8080/",
          "height": 335
        },
        "id": "idasZXpYU84A",
        "outputId": "2eca7a47-1980-4192-b5b5-2c5a83cb9dea"
      },
      "execution_count": 21,
      "outputs": [
        {
          "output_type": "execute_result",
          "data": {
            "text/plain": [
              "count     134.000000\n",
              "mean     3449.643284\n",
              "std      3252.202056\n",
              "min        16.000000\n",
              "25%       685.750000\n",
              "50%      1407.000000\n",
              "75%      6297.500000\n",
              "max      9880.000000\n",
              "Name: coliformes_fecales_nmp_100ml, dtype: float64"
            ],
            "text/html": [
              "<div>\n",
              "<style scoped>\n",
              "    .dataframe tbody tr th:only-of-type {\n",
              "        vertical-align: middle;\n",
              "    }\n",
              "\n",
              "    .dataframe tbody tr th {\n",
              "        vertical-align: top;\n",
              "    }\n",
              "\n",
              "    .dataframe thead th {\n",
              "        text-align: right;\n",
              "    }\n",
              "</style>\n",
              "<table border=\"1\" class=\"dataframe\">\n",
              "  <thead>\n",
              "    <tr style=\"text-align: right;\">\n",
              "      <th></th>\n",
              "      <th>coliformes_fecales_nmp_100ml</th>\n",
              "    </tr>\n",
              "  </thead>\n",
              "  <tbody>\n",
              "    <tr>\n",
              "      <th>count</th>\n",
              "      <td>134.000000</td>\n",
              "    </tr>\n",
              "    <tr>\n",
              "      <th>mean</th>\n",
              "      <td>3449.643284</td>\n",
              "    </tr>\n",
              "    <tr>\n",
              "      <th>std</th>\n",
              "      <td>3252.202056</td>\n",
              "    </tr>\n",
              "    <tr>\n",
              "      <th>min</th>\n",
              "      <td>16.000000</td>\n",
              "    </tr>\n",
              "    <tr>\n",
              "      <th>25%</th>\n",
              "      <td>685.750000</td>\n",
              "    </tr>\n",
              "    <tr>\n",
              "      <th>50%</th>\n",
              "      <td>1407.000000</td>\n",
              "    </tr>\n",
              "    <tr>\n",
              "      <th>75%</th>\n",
              "      <td>6297.500000</td>\n",
              "    </tr>\n",
              "    <tr>\n",
              "      <th>max</th>\n",
              "      <td>9880.000000</td>\n",
              "    </tr>\n",
              "  </tbody>\n",
              "</table>\n",
              "</div><br><label><b>dtype:</b> float64</label>"
            ]
          },
          "metadata": {},
          "execution_count": 21
        }
      ]
    },
    {
      "cell_type": "code",
      "source": [
        "plt.hist(df_cf, bins=10, rwidth=0.9)\n",
        "plt.title('Distribución de coliformes fecales')\n",
        "plt.xlabel('NMP/100 mL')\n",
        "plt.ylabel('Frecuencia')\n",
        "plt.show()"
      ],
      "metadata": {
        "colab": {
          "base_uri": "https://localhost:8080/",
          "height": 472
        },
        "id": "mWuhAK-fVLHJ",
        "outputId": "63cf42ce-c56b-4b31-c98f-b78fe9281699"
      },
      "execution_count": 25,
      "outputs": [
        {
          "output_type": "display_data",
          "data": {
            "text/plain": [
              "<Figure size 640x480 with 1 Axes>"
            ],
            "image/png": "[encoded data removed]"
          },
          "metadata": {}
        }
      ]
    },
    {
      "cell_type": "code",
      "source": [
        "plt.scatter(df_cf.index, df_cf.values)\n",
        "plt.title('NMP/100 mL por estación')\n",
        "plt.xlabel('Estación')\n",
        "plt.ylabel('NMP/100 mL')\n",
        "plt.show()"
      ],
      "metadata": {
        "colab": {
          "base_uri": "https://localhost:8080/",
          "height": 421
        },
        "id": "YoeCkgY6VuGT",
        "outputId": "c0fee459-6cf7-4b56-e764-be5b586ec4a8"
      },
      "execution_count": 26,
      "outputs": [
        {
          "output_type": "display_data",
          "data": {
            "text/plain": [
              "<Figure size 640x480 with 1 Axes>"
            ],
            "image/png": "[encoded data removed]"
          },
          "metadata": {}
        }
      ]
    },
    {
      "cell_type": "markdown",
      "source": [
        "## Fase 2\n",
        "- Implementación de algoritmos de búsqueda y Optimización.\n",
        "\n",
        "**TAREAS ESPECIFICAS**\n",
        "- Con los datos ya establecidos hacer un análisis preliminar para buscar patrones que ayuden a establecer el comportamiento de las variables ambientales.\n"
      ],
      "metadata": {
        "id": "Dy6SbxpGX23e"
      }
    },
    {
      "cell_type": "code",
      "source": [
        "estaciones=list(df_cf.index.unique())\n",
        "estaciones"
      ],
      "metadata": {
        "colab": {
          "base_uri": "https://localhost:8080/"
        },
        "id": "pnN-Xa0gYRq1",
        "outputId": "2eccddcf-1584-4028-a3da-017e87e8edfd"
      },
      "execution_count": 38,
      "outputs": [
        {
          "output_type": "execute_result",
          "data": {
            "text/plain": [
              "['CUENCA ALTA DEL RÍO CHICAMOCHA. TRAMO 1',\n",
              " 'CUENCA ALTA DEL RÍO CHICAMOCHA. TRAMO 2',\n",
              " 'CUENCA ALTA DEL RÍO CHICAMOCHA. TRAMO 3',\n",
              " 'CUENCA ALTA DEL RÍO CHICAMOCHA. TRAMO 4',\n",
              " 'CUENCA ALTA DEL RÍO CHICAMOCHA. TRAMO 5',\n",
              " 'RIO MUECHE',\n",
              " 'QUEBRADA NAPUSERA - AGUAS ARRIBA DEL VERTIMIENTO DE RONDON',\n",
              " 'QUEBRADA NAPUSERA - PUNTO DE DESCARGA RONDON',\n",
              " 'QUEBRADA NAPUSERA ANTES DE LA CONFLUENCIA CON EL RIO MUECHE',\n",
              " 'RIO MUECHE PUENTE BOLIVAR',\n",
              " 'QUEBRADA HONDA - ANTES DE LA CONFLUENCIA CON EL RIO MUECHE',\n",
              " 'RÍO MUECHE ANTES DE AGUAS TERMALES',\n",
              " 'QUEBRADA PLATANILLAL - AGUAS TERMALES -ANTES DE CONFLUENCIA CON RIO MUECHE',\n",
              " 'RIO MUECHE DESPUES DE AGUAS TERMALES',\n",
              " 'QUEBRADA CORVISUCIA - AGUAS ARRIBA DESCARGA ZETAQUIRA',\n",
              " 'QUEBRADA CORVISUCIA - DESCARGA ZETAQUIRA - QUEBRADA CURVISUCIA',\n",
              " 'QUEBRADA CORVISUCIA - EN EL PUNTO DE DESCARGA ZETAQUIRA',\n",
              " 'RIO MUECHE DESPUES DE DESCARGA ZETAQUIRA',\n",
              " 'RIO FUCHE ANTES DE LA CONFLUENCIA CON EL RIO MUECHE',\n",
              " 'RIO MUECHE DESPUES DE CONFLUENCIA CON RIO FUCHE',\n",
              " 'QUEBRADA RUSA',\n",
              " 'RIO LENGUPA PUENTE CAÑAVERAL',\n",
              " 'QUEBRADA AGUA BLANCA AGUAS ARRIBAS DESCARGA DE BERBEO',\n",
              " 'QUEBRADA HERRERUNA AGUAS ARRIBA DESCARGA MIRAFLORES',\n",
              " 'QUEBRADA HERRERUNA EN EL PUNTO DE DESCARGAS MIRAFLORES',\n",
              " 'QUEBRADA AGUA BLANCA DESCARGA BERBEO',\n",
              " 'QUEBRADA AGUA BLANCA PUNTO DE DESCARGA BERBEO',\n",
              " 'QUEBRADA HERRERUNA DESCARGA MIRAFLORES',\n",
              " 'RIO LENGUPA PUENTE LIMONAL',\n",
              " 'QUEBRADA MOCASIA',\n",
              " 'QUEBRADA TOBASIA',\n",
              " 'QUEBRADA BATATALERA',\n",
              " 'RIO LENGUPA DESPUES DE LA QUEBRADA BATALERA',\n",
              " 'QUEBRADA SUCIA',\n",
              " 'RÍO LENGUPA PUENTE MICHO',\n",
              " 'QUEBRADA MENUDERA AGUAS ARRIBA DE LA DESCARGA DE PAEZ',\n",
              " 'QUEBRADA MANUDERA DESPUES DEL VERTIMIENTO DE PAÉZ',\n",
              " 'QUEBRADA MENUDERA EN EL PUNTO DE DESCARGA PAEZ',\n",
              " 'RÍO LENGUPA PUENTE CORTADERAL',\n",
              " 'RIO TINJACA',\n",
              " 'RIO TINJACA - DESCARGA TINJACA',\n",
              " 'RIO LEYVA',\n",
              " 'RIO CANE',\n",
              " 'RIO MONIQUIRA PUENTE GACHANTIVA',\n",
              " 'RIO MONIQUIRA - COPER',\n",
              " 'RIO MONIQUIRA COMFABOY',\n",
              " 'RIO MONIQUIRA PTAR COMFABOY',\n",
              " 'RÍO SUAREZ PUENTE BARBOSA',\n",
              " 'RÍO MONIQUIRÁ - FINAL',\n",
              " 'RIO SUAREZ PTE. SAN JOSE',\n",
              " 'RIO SUAREZ PUENTE SANTANA',\n",
              " 'RIO LENGUARUCO',\n",
              " 'RIO SUAREZ - FINAL',\n",
              " 'CANAL VALLADO',\n",
              " 'RÍO GACHANECA',\n",
              " 'RIO SACHICA',\n",
              " 'RIO POMECA INICIO TRAMO 2S',\n",
              " 'RIO POMECA ANTES ARCABUCO',\n",
              " 'RIO POMECA',\n",
              " 'RIO POMECA DESPUES QDA N.N.',\n",
              " 'RIO POMECA DESPUES PTAR',\n",
              " 'RÍO UBAZA - TOGÜI',\n",
              " 'CONFLUENCIA RIO UBAZA AL RIO SUAREZ',\n",
              " 'P-E4 RÍO PESCA AGUAS ABAJO PUENTE',\n",
              " 'P-E7 RÍO PESCA MITAD DE CASCO URBANO',\n",
              " 'P-E8 VERTIMIENTO PESCA',\n",
              " 'P-E9 RÍO PESCA AGUAS ABAJO',\n",
              " 'P-E10 RÍO PESCA AGUAS ABAJO QUEBRADA PESCA',\n",
              " 'QUEBRADA CANOAS',\n",
              " 'E( DESCARGA ARD IZA',\n",
              " 'E9 RIO TOTA (CRUCE HOLCIM)',\n",
              " 'P1 .CABECERA RIO MONQUIRA',\n",
              " 'P2. QUEBRADA CHORRERA CONFLUENCIA RIO MONQUIRA',\n",
              " 'P3. RIO MONQUIRA PUENTE VEHICULAR CASCO URBANO',\n",
              " 'P4. RIO MONQUIRA ANTES DEL RIO CHIQUITO / CABEZAL DE DESCARGA',\n",
              " 'Río Chiquito Inicio CH-9',\n",
              " 'Río Chiquito Plaza de Mercado CH-E10',\n",
              " 'Río Chiquito debajo de Firavitoba',\n",
              " 'Río Chiquito Aliviadero Canal Venecia CH-E12',\n",
              " 'Río Chiquito Puente Peatonal CH-E14',\n",
              " 'Río Chiquito Puente Vehicular Carta CH-E915',\n",
              " 'Río Chiquito Puente La Virgen CH-E16',\n",
              " 'Canal Venecia antes de la confluencia con Río Chiquito',\n",
              " 'Río Chiquito antes Río Monquirá',\n",
              " 'Río Chiquito antes canal Vargas CH-E18',\n",
              " 'Canal Vargas antes Río Chiquito',\n",
              " 'Adelante confluencia Río Chiquito y Canal Vargas',\n",
              " 'Río Minero - Estación de Inicio',\n",
              " 'Quebrada El Batan Quipama y La Victoria',\n",
              " 'Río Minero - Puente Vía Muzo',\n",
              " 'Quebrada Itoco El Mango Puerto Arturo',\n",
              " 'Rio Guazo o Palenque - Coper y Maripí',\n",
              " 'Rio Minero - Mina Polveros',\n",
              " 'Quebrada Paunera Despues Manotera',\n",
              " 'Rio Ibacapi Tunungua y Briceño',\n",
              " 'Quebrada Buri - Buri CP San Martín',\n",
              " 'Quebrada Tambrias',\n",
              " 'Rio Minero Estacion Final Otro Mundo']"
            ]
          },
          "metadata": {},
          "execution_count": 38
        }
      ]
    },
    {
      "cell_type": "code",
      "source": [
        "np.sum(df_cf[df_cf.index=='CUENCA ALTA DEL RÍO CHICAMOCHA. TRAMO 1'])/len(df_cf[df_cf.index=='CUENCA ALTA DEL RÍO CHICAMOCHA. TRAMO 1'])"
      ],
      "metadata": {
        "colab": {
          "base_uri": "https://localhost:8080/"
        },
        "id": "EUrBcK-4abA_",
        "outputId": "b33257c8-28e3-4be3-aaf4-3700dff7ffd1"
      },
      "execution_count": 47,
      "outputs": [
        {
          "output_type": "execute_result",
          "data": {
            "text/plain": [
              "4684.4857142857145"
            ]
          },
          "metadata": {},
          "execution_count": 47
        }
      ]
    },
    {
      "cell_type": "code",
      "source": [
        "medias=[]\n",
        "#df_cf[df_cf.index=='CUENCA ALTA DEL RÍO CHICAMOCHA. TRAMO 1']\n",
        "for est in estaciones:\n",
        "  media=np.mean(df_cf[df_cf.index==est])\n",
        "  #print(media)\n",
        "  medias.append(media)\n",
        "\n",
        "df_medias=pd.Series(medias, index=estaciones)\n",
        "df_medias"
      ],
      "metadata": {
        "colab": {
          "base_uri": "https://localhost:8080/",
          "height": 458
        },
        "id": "NGtVA73wZLeZ",
        "outputId": "a22af981-94f4-4e6c-f95e-4757dc089a19"
      },
      "execution_count": 49,
      "outputs": [
        {
          "output_type": "execute_result",
          "data": {
            "text/plain": [
              "CUENCA ALTA DEL RÍO CHICAMOCHA. TRAMO 1    4684.485714\n",
              "CUENCA ALTA DEL RÍO CHICAMOCHA. TRAMO 2    4376.246667\n",
              "CUENCA ALTA DEL RÍO CHICAMOCHA. TRAMO 3    2766.250000\n",
              "CUENCA ALTA DEL RÍO CHICAMOCHA. TRAMO 4    4547.781818\n",
              "CUENCA ALTA DEL RÍO CHICAMOCHA. TRAMO 5    2130.450000\n",
              "                                              ...     \n",
              "Quebrada Paunera Despues Manotera          1170.000000\n",
              "Rio Ibacapi Tunungua y Briceño             1660.000000\n",
              "Quebrada Buri - Buri CP San Martín         6300.000000\n",
              "Quebrada Tambrias                          7400.000000\n",
              "Rio Minero Estacion Final Otro Mundo       1800.000000\n",
              "Length: 98, dtype: float64"
            ],
            "text/html": [
              "<div>\n",
              "<style scoped>\n",
              "    .dataframe tbody tr th:only-of-type {\n",
              "        vertical-align: middle;\n",
              "    }\n",
              "\n",
              "    .dataframe tbody tr th {\n",
              "        vertical-align: top;\n",
              "    }\n",
              "\n",
              "    .dataframe thead th {\n",
              "        text-align: right;\n",
              "    }\n",
              "</style>\n",
              "<table border=\"1\" class=\"dataframe\">\n",
              "  <thead>\n",
              "    <tr style=\"text-align: right;\">\n",
              "      <th></th>\n",
              "      <th>0</th>\n",
              "    </tr>\n",
              "  </thead>\n",
              "  <tbody>\n",
              "    <tr>\n",
              "      <th>CUENCA ALTA DEL RÍO CHICAMOCHA. TRAMO 1</th>\n",
              "      <td>4684.485714</td>\n",
              "    </tr>\n",
              "    <tr>\n",
              "      <th>CUENCA ALTA DEL RÍO CHICAMOCHA. TRAMO 2</th>\n",
              "      <td>4376.246667</td>\n",
              "    </tr>\n",
              "    <tr>\n",
              "      <th>CUENCA ALTA DEL RÍO CHICAMOCHA. TRAMO 3</th>\n",
              "      <td>2766.250000</td>\n",
              "    </tr>\n",
              "    <tr>\n",
              "      <th>CUENCA ALTA DEL RÍO CHICAMOCHA. TRAMO 4</th>\n",
              "      <td>4547.781818</td>\n",
              "    </tr>\n",
              "    <tr>\n",
              "      <th>CUENCA ALTA DEL RÍO CHICAMOCHA. TRAMO 5</th>\n",
              "      <td>2130.450000</td>\n",
              "    </tr>\n",
              "    <tr>\n",
              "      <th>...</th>\n",
              "      <td>...</td>\n",
              "    </tr>\n",
              "    <tr>\n",
              "      <th>Quebrada Paunera Despues Manotera</th>\n",
              "      <td>1170.000000</td>\n",
              "    </tr>\n",
              "    <tr>\n",
              "      <th>Rio Ibacapi Tunungua y Briceño</th>\n",
              "      <td>1660.000000</td>\n",
              "    </tr>\n",
              "    <tr>\n",
              "      <th>Quebrada Buri - Buri CP San Martín</th>\n",
              "      <td>6300.000000</td>\n",
              "    </tr>\n",
              "    <tr>\n",
              "      <th>Quebrada Tambrias</th>\n",
              "      <td>7400.000000</td>\n",
              "    </tr>\n",
              "    <tr>\n",
              "      <th>Rio Minero Estacion Final Otro Mundo</th>\n",
              "      <td>1800.000000</td>\n",
              "    </tr>\n",
              "  </tbody>\n",
              "</table>\n",
              "<p>98 rows × 1 columns</p>\n",
              "</div><br><label><b>dtype:</b> float64</label>"
            ]
          },
          "metadata": {},
          "execution_count": 49
        }
      ]
    },
    {
      "cell_type": "markdown",
      "source": [
        "Puntos donde se puede potabilizar el agua o donde se puede usar el agua para recreación"
      ],
      "metadata": {
        "id": "U3AZL9TUcLsd"
      }
    },
    {
      "cell_type": "code",
      "source": [
        "print('*************************** Puntos *********************************')\n",
        "lista=df_medias[df_medias<2000].index.tolist()\n",
        "for i in lista:\n",
        "  print(i)"
      ],
      "metadata": {
        "colab": {
          "base_uri": "https://localhost:8080/"
        },
        "id": "zto_VSi6cLVJ",
        "outputId": "6385a153-88d8-4b4c-af4b-dd47c4575588"
      },
      "execution_count": 57,
      "outputs": [
        {
          "output_type": "stream",
          "name": "stdout",
          "text": [
            "*************************** Puntos *********************************\n",
            "RIO MUECHE\n",
            "QUEBRADA NAPUSERA - AGUAS ARRIBA DEL VERTIMIENTO DE RONDON\n",
            "QUEBRADA NAPUSERA - PUNTO DE DESCARGA RONDON\n",
            "RIO MUECHE PUENTE BOLIVAR\n",
            "QUEBRADA HONDA - ANTES DE LA CONFLUENCIA CON EL RIO MUECHE\n",
            "RÍO MUECHE ANTES DE AGUAS TERMALES\n",
            "QUEBRADA PLATANILLAL - AGUAS TERMALES -ANTES DE CONFLUENCIA CON RIO MUECHE\n",
            "RIO MUECHE DESPUES DE AGUAS TERMALES\n",
            "QUEBRADA CORVISUCIA - AGUAS ARRIBA DESCARGA ZETAQUIRA\n",
            "QUEBRADA CORVISUCIA - DESCARGA ZETAQUIRA - QUEBRADA CURVISUCIA\n",
            "QUEBRADA CORVISUCIA - EN EL PUNTO DE DESCARGA ZETAQUIRA\n",
            "RIO MUECHE DESPUES DE DESCARGA ZETAQUIRA\n",
            "RIO FUCHE ANTES DE LA CONFLUENCIA CON EL RIO MUECHE\n",
            "RIO MUECHE DESPUES DE CONFLUENCIA CON RIO FUCHE\n",
            "QUEBRADA HERRERUNA EN EL PUNTO DE DESCARGAS MIRAFLORES\n",
            "QUEBRADA AGUA BLANCA DESCARGA BERBEO\n",
            "QUEBRADA AGUA BLANCA PUNTO DE DESCARGA BERBEO\n",
            "RIO LENGUPA PUENTE LIMONAL\n",
            "QUEBRADA MOCASIA\n",
            "QUEBRADA TOBASIA\n",
            "QUEBRADA BATATALERA\n",
            "RIO LENGUPA DESPUES DE LA QUEBRADA BATALERA\n",
            "QUEBRADA SUCIA\n",
            "RÍO LENGUPA PUENTE MICHO\n",
            "QUEBRADA MENUDERA AGUAS ARRIBA DE LA DESCARGA DE PAEZ\n",
            "QUEBRADA MENUDERA EN EL PUNTO DE DESCARGA PAEZ\n",
            "RÍO LENGUPA PUENTE CORTADERAL\n",
            "RIO TINJACA - DESCARGA TINJACA\n",
            "RIO CANE\n",
            "RIO MONIQUIRA PUENTE GACHANTIVA\n",
            "RIO MONIQUIRA - COPER\n",
            "RIO MONIQUIRA COMFABOY\n",
            "RÍO SUAREZ PUENTE BARBOSA\n",
            "RIO LENGUARUCO\n",
            "RÍO GACHANECA\n",
            "RIO POMECA INICIO TRAMO 2S\n",
            "RIO POMECA ANTES ARCABUCO\n",
            "RIO POMECA\n",
            "RIO POMECA DESPUES QDA N.N.\n",
            "RÍO UBAZA - TOGÜI\n",
            "CONFLUENCIA RIO UBAZA AL RIO SUAREZ\n",
            "P-E4 RÍO PESCA AGUAS ABAJO PUENTE\n",
            "Río Chiquito Inicio CH-9\n",
            "Río Chiquito Puente Peatonal CH-E14\n",
            "Río Chiquito Puente La Virgen CH-E16\n",
            "Río Chiquito antes Río Monquirá\n",
            "Río Chiquito antes canal Vargas CH-E18\n",
            "Canal Vargas antes Río Chiquito\n",
            "Adelante confluencia Río Chiquito y Canal Vargas\n",
            "Quebrada El Batan Quipama y La Victoria\n",
            "Quebrada Itoco El Mango Puerto Arturo\n",
            "Rio Guazo o Palenque - Coper y Maripí\n",
            "Quebrada Paunera Despues Manotera\n",
            "Rio Ibacapi Tunungua y Briceño\n",
            "Rio Minero Estacion Final Otro Mundo\n"
          ]
        }
      ]
    },
    {
      "cell_type": "markdown",
      "source": [
        "### Algoritmo busqueda en amplitud para encontrar anomalias en los ríos"
      ],
      "metadata": {
        "id": "Rhhbq_GNdXHr"
      }
    },
    {
      "cell_type": "code",
      "source": [
        "def BFS_rios(datos, limite):\n",
        "  visitados=[]\n",
        "  cola=datos.index.tolist()\n",
        "  anomalias=[]\n",
        "  i=0\n",
        "  while cola:\n",
        "    nodo=cola.pop(0)\n",
        "    if nodo not in visitados:\n",
        "      visitados.append(nodo)\n",
        "      #for i in range(len(datos)):\n",
        "      if datos.values[i]>=limite:\n",
        "\n",
        "          #cola.append(i)\n",
        "          #visitados.append(i)\n",
        "          anomalias.append(datos.index[i])\n",
        "    i+=1\n",
        "  return list(anomalias)\n"
      ],
      "metadata": {
        "id": "ph0xCnbZdWZZ"
      },
      "execution_count": 157,
      "outputs": []
    },
    {
      "cell_type": "code",
      "source": [
        "BFS_rios(df_medias, 7000)"
      ],
      "metadata": {
        "colab": {
          "base_uri": "https://localhost:8080/"
        },
        "id": "pzbkFoIZgN1p",
        "outputId": "e1d97cc9-5a08-4b47-9724-040928b49e20"
      },
      "execution_count": 162,
      "outputs": [
        {
          "output_type": "execute_result",
          "data": {
            "text/plain": [
              "['QUEBRADA RUSA',\n",
              " 'RIO LENGUPA PUENTE CAÑAVERAL',\n",
              " 'QUEBRADA HERRERUNA DESCARGA MIRAFLORES',\n",
              " 'RIO TINJACA',\n",
              " 'RIO MONIQUIRA PTAR COMFABOY',\n",
              " 'RIO SUAREZ PUENTE SANTANA',\n",
              " 'RIO SACHICA',\n",
              " 'QUEBRADA CANOAS',\n",
              " 'P2. QUEBRADA CHORRERA CONFLUENCIA RIO MONQUIRA',\n",
              " 'P4. RIO MONQUIRA ANTES DEL RIO CHIQUITO / CABEZAL DE DESCARGA',\n",
              " 'Río Chiquito Puente Vehicular Carta CH-E915',\n",
              " 'Canal Venecia antes de la confluencia con Río Chiquito',\n",
              " 'Rio Minero - Mina Polveros',\n",
              " 'Quebrada Tambrias']"
            ]
          },
          "metadata": {},
          "execution_count": 162
        }
      ]
    },
    {
      "cell_type": "code",
      "source": [
        "def DFS_rios(datos, limite):\n",
        "  visitados=[]\n",
        "  cola=datos.index.tolist()\n",
        "  anomalias=[]\n",
        "  i=len(datos)-1\n",
        "  while cola:\n",
        "    nodo=cola.pop(-1)\n",
        "    #print(i)\n",
        "    if nodo not in visitados:\n",
        "      visitados.append(nodo)\n",
        "      #for i in range(len(datos)):\n",
        "      if datos.values[i]>=limite:\n",
        "          #cola.append(i)\n",
        "          #visitados.append(i)\n",
        "          anomalias.append(datos.index[i])\n",
        "    i-=1\n",
        "  return list(anomalias)"
      ],
      "metadata": {
        "id": "PnFiEL45p0Pi"
      },
      "execution_count": 159,
      "outputs": []
    },
    {
      "cell_type": "code",
      "source": [
        "DFS_rios(df_medias, 7000)"
      ],
      "metadata": {
        "colab": {
          "base_uri": "https://localhost:8080/"
        },
        "id": "jzkwaWWTqAN4",
        "outputId": "1060f0bd-a733-4e3d-854f-99630ded5da9"
      },
      "execution_count": 163,
      "outputs": [
        {
          "output_type": "execute_result",
          "data": {
            "text/plain": [
              "['Quebrada Tambrias',\n",
              " 'Rio Minero - Mina Polveros',\n",
              " 'Canal Venecia antes de la confluencia con Río Chiquito',\n",
              " 'Río Chiquito Puente Vehicular Carta CH-E915',\n",
              " 'P4. RIO MONQUIRA ANTES DEL RIO CHIQUITO / CABEZAL DE DESCARGA',\n",
              " 'P2. QUEBRADA CHORRERA CONFLUENCIA RIO MONQUIRA',\n",
              " 'QUEBRADA CANOAS',\n",
              " 'RIO SACHICA',\n",
              " 'RIO SUAREZ PUENTE SANTANA',\n",
              " 'RIO MONIQUIRA PTAR COMFABOY',\n",
              " 'RIO TINJACA',\n",
              " 'QUEBRADA HERRERUNA DESCARGA MIRAFLORES',\n",
              " 'RIO LENGUPA PUENTE CAÑAVERAL',\n",
              " 'QUEBRADA RUSA']"
            ]
          },
          "metadata": {},
          "execution_count": 163
        }
      ]
    },
    {
      "cell_type": "code",
      "source": [
        "def heuristica(dato, limite=7000):\n",
        "  return abs(dato-limite)"
      ],
      "metadata": {
        "id": "wPKcq5OOr6-s"
      },
      "execution_count": 110,
      "outputs": []
    },
    {
      "cell_type": "code",
      "source": [
        "import heapq\n",
        "\n",
        "def busqueda_voraz(datos, limite):\n",
        "  prio=datos.copy()\n",
        "  prio2=prio.apply(heuristica, limite)\n",
        "  #print(prio2)\n",
        "  cola=prio2.sort_values().values.tolist()\n",
        "  visitados=[]\n",
        "  anomalias=[]\n",
        "  i=0\n",
        "  while cola:\n",
        "    nodo=cola.pop(0)\n",
        "    if datos.values[i]>=limite:\n",
        "      anomalias.append(datos.index[i])\n",
        "    i+=1\n",
        "  return list(anomalias)"
      ],
      "metadata": {
        "id": "yDFGMq51qlUp"
      },
      "execution_count": 124,
      "outputs": []
    },
    {
      "cell_type": "code",
      "source": [
        "busqueda_voraz(df_medias, 7000)"
      ],
      "metadata": {
        "colab": {
          "base_uri": "https://localhost:8080/"
        },
        "id": "CHGqVvkrutUt",
        "outputId": "f730dd8f-0833-440c-9ca5-66eee8a5363e"
      },
      "execution_count": 164,
      "outputs": [
        {
          "output_type": "stream",
          "name": "stderr",
          "text": [
            "<ipython-input-124-0ca0156a34c0>:5: FutureWarning: the convert_dtype parameter is deprecated and will be removed in a future version.  Do ``ser.astype(object).apply()`` instead if you want ``convert_dtype=False``.\n",
            "  prio2=prio.apply(heuristica, limite)\n"
          ]
        },
        {
          "output_type": "execute_result",
          "data": {
            "text/plain": [
              "['QUEBRADA RUSA',\n",
              " 'RIO LENGUPA PUENTE CAÑAVERAL',\n",
              " 'QUEBRADA HERRERUNA DESCARGA MIRAFLORES',\n",
              " 'RIO TINJACA',\n",
              " 'RIO MONIQUIRA PTAR COMFABOY',\n",
              " 'RIO SUAREZ PUENTE SANTANA',\n",
              " 'RIO SACHICA',\n",
              " 'QUEBRADA CANOAS',\n",
              " 'P2. QUEBRADA CHORRERA CONFLUENCIA RIO MONQUIRA',\n",
              " 'P4. RIO MONQUIRA ANTES DEL RIO CHIQUITO / CABEZAL DE DESCARGA',\n",
              " 'Río Chiquito Puente Vehicular Carta CH-E915',\n",
              " 'Canal Venecia antes de la confluencia con Río Chiquito',\n",
              " 'Rio Minero - Mina Polveros',\n",
              " 'Quebrada Tambrias']"
            ]
          },
          "metadata": {},
          "execution_count": 164
        }
      ]
    },
    {
      "cell_type": "code",
      "source": [
        "import random\n",
        "costo=np.random.randint(1000,5000,size=len(df_medias))\n",
        "#costo=np.ones(len(df_medias))*1000\n",
        "costo"
      ],
      "metadata": {
        "colab": {
          "base_uri": "https://localhost:8080/"
        },
        "id": "te777hSRy-Yv",
        "outputId": "605825b2-c451-402f-f3d2-1b1be4a19c0c"
      },
      "execution_count": 132,
      "outputs": [
        {
          "output_type": "execute_result",
          "data": {
            "text/plain": [
              "array([2689, 1312, 1977, 1449, 2160, 3933, 1262, 1089, 2539, 3908, 1183,\n",
              "       1088, 4304, 2435, 2432, 2815, 1314, 4220, 3355, 3368, 4713, 1063,\n",
              "       1994, 1532, 2888, 3275, 4327, 1838, 1253, 1891, 1455, 4394, 2836,\n",
              "       2345, 3776, 1442, 2864, 2062, 1926, 4936, 3697, 3712, 4143, 1943,\n",
              "       3882, 3395, 1660, 2293, 3045, 3774, 1251, 1317, 4705, 1115, 2722,\n",
              "       3538, 1051, 2504, 3625, 1329, 4461, 2470, 3134, 3290, 3929, 4100,\n",
              "       3509, 1897, 1180, 1433, 2521, 1081, 3414, 4045, 2084, 4283, 2233,\n",
              "       1687, 3788, 4552, 1738, 3476, 4029, 3082, 2111, 4344, 4516, 3697,\n",
              "       1943, 2611, 1654, 2961, 2238, 4443, 2058, 4906, 1325, 2097])"
            ]
          },
          "metadata": {},
          "execution_count": 132
        }
      ]
    },
    {
      "cell_type": "code",
      "source": [
        "def heuristica(dato, limite=7000):\n",
        "  return abs(dato-limite)\n",
        "\n",
        "def costo_total(dato, costo):\n",
        "  return dato+costo\n",
        "  #print(prio2)"
      ],
      "metadata": {
        "id": "LJm-_f8tys1w"
      },
      "execution_count": 134,
      "outputs": []
    },
    {
      "cell_type": "code",
      "source": [
        "def a_estrella(datos, limite, costo):\n",
        "  prio=datos.copy()\n",
        "  prio2=prio.apply(heuristica, limite)\n",
        "  prio3=prio2+costo#prio2.apply(costo_total, costo=costo)\n",
        "  #print(prio2)\n",
        "  cola=prio3.sort_values().values.tolist()\n",
        "  visitados=[]\n",
        "  anomalias=[]\n",
        "  i=0\n",
        "  while cola:\n",
        "    nodo=cola.pop(0)\n",
        "    if datos.values[i]>=limite:\n",
        "      anomalias.append(datos.index[i])\n",
        "    i+=1\n",
        "  return list(anomalias)"
      ],
      "metadata": {
        "id": "TXvau5nCygyz"
      },
      "execution_count": 138,
      "outputs": []
    },
    {
      "cell_type": "code",
      "source": [
        "a_estrella(df_medias, 7000, costo)"
      ],
      "metadata": {
        "colab": {
          "base_uri": "https://localhost:8080/"
        },
        "id": "AOfnOhXk07fi",
        "outputId": "a0b533bf-9342-4198-eb07-02ea1939725f"
      },
      "execution_count": 165,
      "outputs": [
        {
          "output_type": "stream",
          "name": "stderr",
          "text": [
            "<ipython-input-138-29c22173165e>:3: FutureWarning: the convert_dtype parameter is deprecated and will be removed in a future version.  Do ``ser.astype(object).apply()`` instead if you want ``convert_dtype=False``.\n",
            "  prio2=prio.apply(heuristica, limite)\n"
          ]
        },
        {
          "output_type": "execute_result",
          "data": {
            "text/plain": [
              "['QUEBRADA RUSA',\n",
              " 'RIO LENGUPA PUENTE CAÑAVERAL',\n",
              " 'QUEBRADA HERRERUNA DESCARGA MIRAFLORES',\n",
              " 'RIO TINJACA',\n",
              " 'RIO MONIQUIRA PTAR COMFABOY',\n",
              " 'RIO SUAREZ PUENTE SANTANA',\n",
              " 'RIO SACHICA',\n",
              " 'QUEBRADA CANOAS',\n",
              " 'P2. QUEBRADA CHORRERA CONFLUENCIA RIO MONQUIRA',\n",
              " 'P4. RIO MONQUIRA ANTES DEL RIO CHIQUITO / CABEZAL DE DESCARGA',\n",
              " 'Río Chiquito Puente Vehicular Carta CH-E915',\n",
              " 'Canal Venecia antes de la confluencia con Río Chiquito',\n",
              " 'Rio Minero - Mina Polveros',\n",
              " 'Quebrada Tambrias']"
            ]
          },
          "metadata": {},
          "execution_count": 165
        }
      ]
    },
    {
      "cell_type": "code",
      "source": [
        "len(df_medias[df_medias>7000])"
      ],
      "metadata": {
        "colab": {
          "base_uri": "https://localhost:8080/"
        },
        "id": "00X6tFg217rO",
        "outputId": "60eef80b-7208-4f64-90ba-f57150251637"
      },
      "execution_count": 166,
      "outputs": [
        {
          "output_type": "execute_result",
          "data": {
            "text/plain": [
              "14"
            ]
          },
          "metadata": {},
          "execution_count": 166
        }
      ]
    },
    {
      "cell_type": "markdown",
      "source": [
        "Las estaciones que presentan anomalias son:"
      ],
      "metadata": {
        "id": "m9sXiArk4XoH"
      }
    },
    {
      "cell_type": "code",
      "source": [
        "print('*************************** Anomalias encontradas con BFS *********************************')\n",
        "lista=BFS_rios(df_medias, 7000)\n",
        "for i in lista:\n",
        "  print(i)"
      ],
      "metadata": {
        "colab": {
          "base_uri": "https://localhost:8080/"
        },
        "id": "enDDn34n4XC9",
        "outputId": "d5adebba-7c00-4bb9-86b7-bef8c66bcefc"
      },
      "execution_count": 167,
      "outputs": [
        {
          "output_type": "stream",
          "name": "stdout",
          "text": [
            "*************************** Anomalias encontradas con BFS *********************************\n",
            "QUEBRADA RUSA\n",
            "RIO LENGUPA PUENTE CAÑAVERAL\n",
            "QUEBRADA HERRERUNA DESCARGA MIRAFLORES\n",
            "RIO TINJACA\n",
            "RIO MONIQUIRA PTAR COMFABOY\n",
            "RIO SUAREZ PUENTE SANTANA\n",
            "RIO SACHICA\n",
            "QUEBRADA CANOAS\n",
            "P2. QUEBRADA CHORRERA CONFLUENCIA RIO MONQUIRA\n",
            "P4. RIO MONQUIRA ANTES DEL RIO CHIQUITO / CABEZAL DE DESCARGA\n",
            "Río Chiquito Puente Vehicular Carta CH-E915\n",
            "Canal Venecia antes de la confluencia con Río Chiquito\n",
            "Rio Minero - Mina Polveros\n",
            "Quebrada Tambrias\n"
          ]
        }
      ]
    },
    {
      "cell_type": "code",
      "source": [
        "print('*************************** Anomalias encontradas con DFS *********************************')\n",
        "lista=DFS_rios(df_medias, 7000)\n",
        "for i in lista:\n",
        "  print(i)"
      ],
      "metadata": {
        "colab": {
          "base_uri": "https://localhost:8080/"
        },
        "id": "JqB8hikF45G5",
        "outputId": "322cb2b5-f827-4167-fffd-4fe296766e01"
      },
      "execution_count": 168,
      "outputs": [
        {
          "output_type": "stream",
          "name": "stdout",
          "text": [
            "*************************** Anomalias encontradas con DFS *********************************\n",
            "Quebrada Tambrias\n",
            "Rio Minero - Mina Polveros\n",
            "Canal Venecia antes de la confluencia con Río Chiquito\n",
            "Río Chiquito Puente Vehicular Carta CH-E915\n",
            "P4. RIO MONQUIRA ANTES DEL RIO CHIQUITO / CABEZAL DE DESCARGA\n",
            "P2. QUEBRADA CHORRERA CONFLUENCIA RIO MONQUIRA\n",
            "QUEBRADA CANOAS\n",
            "RIO SACHICA\n",
            "RIO SUAREZ PUENTE SANTANA\n",
            "RIO MONIQUIRA PTAR COMFABOY\n",
            "RIO TINJACA\n",
            "QUEBRADA HERRERUNA DESCARGA MIRAFLORES\n",
            "RIO LENGUPA PUENTE CAÑAVERAL\n",
            "QUEBRADA RUSA\n"
          ]
        }
      ]
    },
    {
      "cell_type": "code",
      "source": [
        "print('*************************** Anomalias encontradas con A* *********************************')\n",
        "lista=a_estrella(df_medias, 7000, costo)\n",
        "for i in lista:\n",
        "  print(i)"
      ],
      "metadata": {
        "colab": {
          "base_uri": "https://localhost:8080/"
        },
        "id": "A4C60ghc49YN",
        "outputId": "9afd7c19-101f-47ce-a035-9e4750b0408e"
      },
      "execution_count": 169,
      "outputs": [
        {
          "output_type": "stream",
          "name": "stdout",
          "text": [
            "*************************** Anomalias encontradas con A* *********************************\n",
            "QUEBRADA RUSA\n",
            "RIO LENGUPA PUENTE CAÑAVERAL\n",
            "QUEBRADA HERRERUNA DESCARGA MIRAFLORES\n",
            "RIO TINJACA\n",
            "RIO MONIQUIRA PTAR COMFABOY\n",
            "RIO SUAREZ PUENTE SANTANA\n",
            "RIO SACHICA\n",
            "QUEBRADA CANOAS\n",
            "P2. QUEBRADA CHORRERA CONFLUENCIA RIO MONQUIRA\n",
            "P4. RIO MONQUIRA ANTES DEL RIO CHIQUITO / CABEZAL DE DESCARGA\n",
            "Río Chiquito Puente Vehicular Carta CH-E915\n",
            "Canal Venecia antes de la confluencia con Río Chiquito\n",
            "Rio Minero - Mina Polveros\n",
            "Quebrada Tambrias\n"
          ]
        },
        {
          "output_type": "stream",
          "name": "stderr",
          "text": [
            "<ipython-input-138-29c22173165e>:3: FutureWarning: the convert_dtype parameter is deprecated and will be removed in a future version.  Do ``ser.astype(object).apply()`` instead if you want ``convert_dtype=False``.\n",
            "  prio2=prio.apply(heuristica, limite)\n"
          ]
        }
      ]
    },
    {
      "cell_type": "markdown",
      "source": [
        "## Fase 3\n",
        "\n",
        "Visualización y Reporte  \n",
        "**TAREAS ESPECIFICAS**\n",
        "- Una vez establecido el comportamiento de las variables ambientales, realizar la visualización de los resultados.\n",
        "- Realizar las recomendaciones sobre los resultados encontrados.\n",
        "- Hacer un video de 5 minutos en donde explique la solución que se implementó frente al problema"
      ],
      "metadata": {
        "id": "PeVjGraw5hJd"
      }
    },
    {
      "cell_type": "code",
      "source": [
        "plt.figure(figsize=(10,6))\n",
        "df_medias.plot(kind='bar', fontsize=4)\n",
        "plt.axhline(7000, color = \"red\", linewidth = 1, linestyle = \"dashed\")\n",
        "plt.axhline(2000, color = \"g\", linewidth = 1, linestyle = \"dashed\")\n",
        "plt.title('NMP/100 mL por estación')\n",
        "plt.xlabel('Estación')\n",
        "plt.ylabel('NMP/100 mL')\n",
        "plt.show()"
      ],
      "metadata": {
        "colab": {
          "base_uri": "https://localhost:8080/",
          "height": 744
        },
        "id": "aik_tNS05gz5",
        "outputId": "64bad76b-2684-40d8-9d7b-ebfdb7a95d3d"
      },
      "execution_count": 178,
      "outputs": [
        {
          "output_type": "display_data",
          "data": {
            "text/plain": [
              "<Figure size 1000x600 with 1 Axes>"
            ],
            "image/png": "[encoded data removed]"
          },
          "metadata": {}
        }
      ]
    },
    {
      "cell_type": "code",
      "source": [
        "pot=df_medias[(df_medias<2000)].count()\n",
        "trat_leve=df_medias[(df_medias>=2000) & (df_medias<7000)].count()\n",
        "trat_g=df_medias[(df_medias>=7000)].count()\n",
        "clases=['Potabilización', 'Tratamiento leve', 'Tratamiento grande']\n",
        "valores=[pot, trat_leve, trat_g]"
      ],
      "metadata": {
        "id": "vvNWixgs7Sil"
      },
      "execution_count": 193,
      "outputs": []
    },
    {
      "cell_type": "markdown",
      "source": [
        "Hagamos un histograma de las estaciones donde podemos realizar una potabilización, donde se necesita un tratamiento leve y un tratamiento grande."
      ],
      "metadata": {
        "id": "dmY-VIAT9xmX"
      }
    },
    {
      "cell_type": "code",
      "source": [
        "plt.bar(clases, valores)\n",
        "plt.title('Número de estaciones por tipo de tratamiento')\n",
        "plt.xlabel('Tipo de tratamiento')\n",
        "plt.ylabel('Número de estaciones')\n",
        "plt.show()"
      ],
      "metadata": {
        "colab": {
          "base_uri": "https://localhost:8080/",
          "height": 472
        },
        "id": "8qgwUJqP9xP8",
        "outputId": "ca302275-50cb-4bf4-e20a-ec47b0915cdc"
      },
      "execution_count": 200,
      "outputs": [
        {
          "output_type": "display_data",
          "data": {
            "text/plain": [
              "<Figure size 640x480 with 1 Axes>"
            ],
            "image/png": "[encoded data removed]"
          },
          "metadata": {}
        }
      ]
    },
    {
      "cell_type": "code",
      "source": [
        "plt.pie(valores, labels=clases, autopct='%1.1f%%', explode=(0.1, 0.1, 0.1), shadow=True)\n",
        "plt.title('Porcentaje de estaciones por tipo de tratamiento')\n",
        "plt.show()"
      ],
      "metadata": {
        "colab": {
          "base_uri": "https://localhost:8080/",
          "height": 428
        },
        "id": "eRRbfShrA4oW",
        "outputId": "923d740c-6d58-4062-b1ac-28d2959974fe"
      },
      "execution_count": 198,
      "outputs": [
        {
          "output_type": "display_data",
          "data": {
            "text/plain": [
              "<Figure size 640x480 with 1 Axes>"
            ],
            "image/png": "[encoded data removed]"
          },
          "metadata": {}
        }
      ]
    }
  ]
}