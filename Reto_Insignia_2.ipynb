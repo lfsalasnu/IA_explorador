{
  "nbformat": 4,
  "nbformat_minor": 0,
  "metadata": {
    "colab": {
      "provenance": []
    },
    "kernelspec": {
      "name": "python3",
      "display_name": "Python 3"
    },
    "language_info": {
      "name": "python"
    }
  },
  "cells": [
    {
      "cell_type": "markdown",
      "source": [
        "# Optimización de variables\n",
        "\n",
        "En una fábrica que produce un material específico, la cantidad producida está influenciada por diversas variables como la temperatura de la máquina, la presión aplicada, y el tiempo de procesamiento. El objetivo es encontrar la configuración óptima de estas variables para maximizar la producción y minimizar los costos asociados. Para la función objetivo se establece una función que describe la producción del material en función de las variables mencionadas. Para este ejemplo se va a trabajar con la función: $X^2+5X+6$ como la función objetivo. La función objetivo se deriva para para obtener el gradiente. La derivada de la función objetivo es: $2X+5$.\n",
        "\n",
        "Se desea implementar el algoritmo del gradiente descendente para encontrar los valores óptimos de la función objetivo. En este caso se debe encontrar los valores de $X$ e $Y$.\n",
        "\n",
        "Los parámetros que se necesitan para el\n",
        "funcionamiento del algoritmo son: La tasa de aprendizaje, el número de épocas y el valor inicial. Para probar diferentes combinaciones del material que usa la empresa, hay que hacer variaciones de los parámetros del algoritmo de gradiente descendente. Por ejemplo, la tasa de aprendizaje se coloca en 0.1, el número de épocas es 50 y la posición inicial en 0. Como resultado después de 50 épocas el valor de X y de Y es:\n",
        "\n",
        "X: -2.499964\n",
        "\n",
        "Y: -0.249999\n",
        "\n",
        "Hay que hacer la implementación del algoritmo de gradiente descendiente y variar los parámetros de configuración.\n",
        "\n",
        "**Entrada**   \n",
        "- Cada uno de los casos de prueba estará compuesto por una línea con la tasa de aprendizaje, el número de épocas y el punto inicial.\n",
        "\n",
        "**Salida**   \n",
        "- La salida estará representada por una única línea formada por los valores de X que es el valor después de las iteraciones y el valor de Y que es la evaluación de X en la función objetivo. Se debe mostrar hasta los primero 6 decimales.\n",
        "\n",
        "\n",
        "**Casos de prueba**\n",
        "\n",
        "```\n",
        "Entrada\tSalida Esperada\n",
        "0.1 10 1\t-2.12419 -0.108767\n",
        "0.2 20 0\t-2.499909 -0.25\n",
        "0.1 50 3\t-2.499922 -0.25\n",
        "```\n",
        "\n",
        "Instrucciones para la calificación automática\n",
        "\n",
        "Antes de enviar la solución del quiz, por favor tenga en cuenta los siguientes aspectos:\n",
        "\n",
        "Cada caso de prueba se especifica con una línea.\n",
        "Cada línea debe contener los valores de los parámetros requeridos separados por un espacio.\n",
        "Es importante no utilizar ningún mensaje a la hora de capturar las entradas, es decir, al utilizar la función input()no agregue ningún texto para capturar los datos.\n",
        "Los resultados se muestran en una única línea. Los dos valores requeridos deben estar separados por un espacio."
      ],
      "metadata": {
        "id": "UQ2I2O-dxTbE"
      }
    },
    {
      "cell_type": "code",
      "execution_count": 4,
      "metadata": {
        "colab": {
          "base_uri": "https://localhost:8080/"
        },
        "id": "FmSE01qoxSzm",
        "outputId": "aa4b628d-16b4-485b-d3ac-c88e77ac4341"
      },
      "outputs": [
        {
          "output_type": "stream",
          "name": "stdout",
          "text": [
            "0.1 1000 3\n",
            "-2.5 -0.25\n"
          ]
        }
      ],
      "source": [
        "tasa, epocas, pos_inicial = input().split(' ')\n",
        "\n",
        "def funcion_objetivo(x):\n",
        "  y = x**2 + 5*x + 6\n",
        "  return y\n",
        "def derivada(x):\n",
        "  d = 2*x + 5\n",
        "  return d\n",
        "\n",
        "def desc_grad(tasa, epocas, pos_inicial):\n",
        "  tasa=float(tasa)\n",
        "  epocas=int(epocas)\n",
        "  pos_inicial=float(pos_inicial)\n",
        "  x = pos_inicial\n",
        "  for _ in range(epocas):\n",
        "    gradiente = derivada(x)\n",
        "    x = x - tasa * gradiente\n",
        "    y = funcion_objetivo(x)\n",
        "  return x, y\n",
        "\n",
        "x, y = desc_grad(tasa, epocas, pos_inicial)\n",
        "print(round(x,6), round(y,6))"
      ]
    }
  ]
}