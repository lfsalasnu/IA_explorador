{
  "nbformat": 4,
  "nbformat_minor": 0,
  "metadata": {
    "colab": {
      "provenance": []
    },
    "kernelspec": {
      "name": "python3",
      "display_name": "Python 3"
    },
    "language_info": {
      "name": "python"
    }
  },
  "cells": [
    {
      "cell_type": "markdown",
      "source": [
        "# Límites de velocidad\n",
        "\n",
        "Debido a la alta accidentalidad presentada en el último año en las carreteras del territorio nacional, el Gobierno Colombiano ha decidido implementar controles que permitan sancionara a los conductores que no respeten los límites de velocidad establecidos por los organismos de control. Con este fin, el Ministerio de Transporte ha decidido implementar radares de tramo en las carreteras con mayores índices de accidentalidad en el país.\n",
        "\n",
        "Los radares de tramo funcionan colocando dos cámaras en dos puntos alejados de una carretera con el fin de comprobar cuánto tiempo tarda un conductor recorrer dicho tramo. Estos radares no mide la velocidad de paso, sino el tiempo de paso representado como la velocidad media de un conductor en un trayecto con una longitud determinada.\n",
        "\n",
        "Formalmente, los radares de tramo se basan en el teorema de Lagrange (también conocido como el teorema de valor medio o de Bonnet-Lagrange), el cual nos dice que dice tenemos una función continua en un intervalo cerrado, y derivable en un intervalo abierto, entonces algún punto de ese intervalo abierto la función tendrá una derivada instantánea igual a la pendiente media de la curva en el intervalo cerrado.\n",
        "\n",
        "Aunque estos conceptos pueden asustar en un principio, su interpretación es muy simple: si hacemos un viaje desde Bogotá a Tunja y nuestra velocidad media es de 100 Km/h, necesariamente en algún punto del trayecto nuestra velocidad habrá sido de 100 Km/h. Esto quiere decir que si la velocidad media supera la velocidad máxima permitida, gracias al teorema anterior, sabremos que en algún punto del trayecto se superó la velocidad máxima permitida. Por ejemplo, si colocamos las cámaras separadas 10 Km en un tramo cuya velocidad máxima es de 110 Km/h, y un conductor tarda 5 minutos en ser visto por la segunda cámara, sabremos que su velocidad media ha sido de 120 Km/h, y por lo tanto, en algún sitio ha superado la velocidad permitida.\n",
        "\n",
        "Usted hace parte del equipo de desarrollo encargado de construir el software que procesará los datos registrados por las cámaras.Su misión es crear un programa en Python que permita saber si un conductor debe ser multado o no.\n",
        "\n",
        "Entrada\n",
        "El programa recibirá 3 parámetros:\n",
        "- La distancia en metros que separa dos cámaras\n",
        "- La velocidad máxima permitida en ese trayecto en (Km/h)\n",
        "- El tiempo en segundos que tarda el conductor en recorrer el trayecto\n",
        "\n",
        "Salida\n",
        "- El programa imprimirá una línea indicando si el conductor debe ser multado o no. Se debe considerar lo siguiente:\n",
        "- Imprimirá 'OK' si el conductor no superó la velocidad máxima.\n",
        "- Imprimirá 'MULTA' si se superó la velocidad máxima en menos de un 20% de la velocidad permitida\n",
        "- Imprimirá 'CURSO SENSIBILIZACION' si la velocidad fue superada en un 20% o más de la velocidad permitida. En este caso además de la multa deberá realizar un curso de sensibilización.\n",
        "- Debido a que los sistemas pueden fallar y registrar valores errados (por ejemplo, indicando que el tiempo que ha tardado el conductor es negativo). En esos casos, se deberá imprimir 'ERROR'\n",
        "\n",
        "\n",
        "Casos de prueba:\n",
        "\n",
        "\n",
        "\n",
        "```\n",
        "Entrada\t      Salida Esperada\n",
        "9165 110 300\t  OK\n",
        "9165 110 299\t  MULTA\n",
        "-1000 -50 -100\tERROR\n",
        "12000 100 359     CURSO SENSIBILIZACION\n",
        "```\n",
        "\n",
        "\n",
        "\n",
        "Instrucciones para la calificación automática\n",
        "\n",
        "Antes de enviar la solución del reto, por favor tenga en cuenta los siguientes aspectos:\n",
        "\n",
        "- Cada caso de prueba se especifica en una única línea.\n",
        "Cada línea debe contener los valores de los parámetros separados por un espacio.\n",
        "- Es importante no utilizar ningún mensaje a la hora de capturar las entradas, es decir, al utilizar la función input()no agregue ningún texto para capturar los datos.\n",
        "Como ejemplo considere el caso de prueba 9165 110 300, el cual corresponde a la medición entre dos cámaras separadas por 9165 metros; una velocidad máxima permitida de 110 (Km/h) y un conductor que tarda 300 segundos en recorrer el trayecto.\n",
        "Los resultados deben imprimirse siempre en mayúscula sostenida."
      ],
      "metadata": {
        "id": "cL1qa9U052kR"
      }
    },
    {
      "cell_type": "code",
      "execution_count": 5,
      "metadata": {
        "colab": {
          "base_uri": "https://localhost:8080/"
        },
        "id": "yn2Iziyc5ysk",
        "outputId": "3c3a40a1-b177-4b31-f89a-77e9df95c17a"
      },
      "outputs": [
        {
          "output_type": "stream",
          "name": "stdout",
          "text": [
            "12000 100 359\n",
            "CURSO SENSIBILIZACION\n"
          ]
        }
      ],
      "source": [
        "def radar(distancia, vel_max, tiempo):\n",
        "  distancia=int(distancia)\n",
        "  vel_max=int(vel_max)\n",
        "  tiempo=int(tiempo)\n",
        "\n",
        "  velocidad_media=(distancia/1000)/(tiempo/3600)\n",
        "  if vel_max <0 or tiempo<0 or distancia<0:\n",
        "    print(\"ERROR\")\n",
        "  elif velocidad_media<vel_max:\n",
        "    print(\"OK\")\n",
        "  elif velocidad_media<(vel_max*1.2):\n",
        "    print(\"MULTA\")\n",
        "  else:\n",
        "    print(\"CURSO SENSIBILIZACION\")\n",
        "\n",
        "distancia, vel_max, tiempo = input().split()\n",
        "radar(distancia, vel_max, tiempo)"
      ]
    },
    {
      "cell_type": "markdown",
      "source": [],
      "metadata": {
        "id": "Pz3nZyxN0JH6"
      }
    }
  ]
}
