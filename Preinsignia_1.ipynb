{
  "nbformat": 4,
  "nbformat_minor": 0,
  "metadata": {
    "colab": {
      "provenance": []
    },
    "kernelspec": {
      "name": "python3",
      "display_name": "Python 3"
    },
    "language_info": {
      "name": "python"
    }
  },
  "cells": [
    {
      "cell_type": "markdown",
      "source": [
        "\n",
        "## Validación de salarios\n",
        "\n",
        "Camilo, un empleado de una compañía de desarrollo software tiene dudas sobre si los pagos que le realiza la empresa de manera mensual son correctos. Con el propósito de aclarar sus inquietudes y verificar si los descuentos realizados son acordes a lo exigido por la ley, decide construir un programa en Python que le permita verificar el valor que debería ser pagado. Después de consultar sobre la normatividad Colombiana y revisar con detalle su contrato laboral nota que debe tener en cuenta los siguientes aspectos:\n",
        "\n",
        "- El valor de una hora de trabajo normal se obtiene dividiendo el salario base sobre 192. Este valor corresponde a la jornada laboral establecida en el contrato (48 horas a la semana y 4 semanas al mes).\n",
        "- Las horas extras se liquidan con un recargo del 25% sobre el valor de una hora normal\n",
        "- Debido a buen desempeño de un empleado la empresa ocasionalmente otorga bonificaciones de 5% del salario base.    \n",
        "\n",
        "El salario total antes de descuentos se calcula como la suma del salario base, más el valor de las horas extras, más las bonificaciones (si las hay)\n",
        "- Se descontará 3.5% del salario total antes de descuentos para el plan obligatorio de salud\n",
        "- Se descontará 4% del salario total antes de descuentos para el aporte a pensión\n",
        "- Se descontara 1% del salario total antes de descuentos para caja de compensación.\n",
        "\n",
        "\n",
        "Luego de considerar toda esta información, Camilo decide construir un programa que permita a cualquier empleado de la empresa verificar si los pagos son correctos.\n",
        "\n",
        "**Entrada**\n",
        "\n",
        "El programa recibirá 3 parámetros:\n",
        "- El salario base del empleado\n",
        "- La cantidad de horas extras se representa a través de un número entero positivo. En caso no de realizar horas extras durante el mes, se ingresará el valor 0.\n",
        "- Si hubo bonificaciones se ingresará el valor 1, de lo contrario el valor 0.  \n",
        "\n",
        "**Salida**\n",
        "- El programa debe imprimir el valor a pagar al empleado luego de realizar los descuentos de ley. El resultado debe imprimirse con un número decimal.\n",
        "\n",
        "Casos de prueba:\n",
        "\n",
        "\n",
        "\n",
        "```\n",
        "Entrada\t    Salida Esperada  \n",
        "1000000 0 0\t915000.0  \n",
        "2355255 2 1\t2290871.9\n",
        "```\n",
        "\n",
        "\n",
        "\n",
        "**Instrucciones para la calificación automática**\n",
        "\n",
        "Antes de enviar la solución del reto, por favor tenga en cuenta los siguientes aspectos:\n",
        "\n",
        "- Cada caso de prueba se especifica en una única línea.\n",
        "Cada línea debe contener los valores de los parámetros separados por un espacio.\n",
        "- Es importante no utilizar ningún mensaje a la hora de capturar las entradas, es decir, al utilizar la función input()no agregue ningún texto para capturar los datos.\n",
        "Como ejemplo considere el caso de prueba 1000000 0 0, el cual corresponde a un trabajador con una salario base de 1000000 con 0 horas extras ysin bonificaciones.\n",
        "El resultado debe imprimirse con un número decimal."
      ],
      "metadata": {
        "id": "TyEjt9bZy4Hc"
      }
    },
    {
      "cell_type": "code",
      "execution_count": 5,
      "metadata": {
        "colab": {
          "base_uri": "https://localhost:8080/"
        },
        "id": "o5KFXMgWysk9",
        "outputId": "071999e4-70eb-4642-9baf-438267389052"
      },
      "outputs": [
        {
          "output_type": "stream",
          "name": "stdout",
          "text": [
            "2355255 2 1\n",
            "2290871.9\n"
          ]
        }
      ],
      "source": [
        "def salario_total(salario, horas_extras, bonificaciones):\n",
        "  salario=float(salario)\n",
        "  horas_extras=int(horas_extras)\n",
        "  bonificaciones=int(bonificaciones)\n",
        "\n",
        "  salario_hora=salario/192\n",
        "  recargo_horas_extras=salario_hora*1.25*horas_extras\n",
        "\n",
        "  if bonificaciones==1:\n",
        "    bono=salario*0.05\n",
        "  else:\n",
        "    bono=0\n",
        "  salario_total=salario+recargo_horas_extras+bono\n",
        "\n",
        "  # descuentos\n",
        "  salud=salario_total*0.035\n",
        "  pension=salario_total*0.04\n",
        "  caja=salario_total*0.01\n",
        "\n",
        "  salario_final=salario_total-salud-pension-caja\n",
        "\n",
        "  return salario_final\n",
        "\n",
        "\n",
        "salario, horas_extras, bonificaciones= input().split(' ')\n",
        "\n",
        "total=salario_total(salario, horas_extras, bonificaciones)\n",
        "print(round(total,1))"
      ]
    },
    {
      "cell_type": "markdown",
      "source": [],
      "metadata": {
        "id": "Pz3nZyxN0JH6"
      }
    }
  ]
}