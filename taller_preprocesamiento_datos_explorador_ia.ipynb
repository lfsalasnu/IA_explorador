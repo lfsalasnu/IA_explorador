{
  "cells": [
    {
      "cell_type": "markdown",
      "id": "4b3dc7cf-8e76-4527-8096-1f118ffda9ef",
      "metadata": {
        "id": "4b3dc7cf-8e76-4527-8096-1f118ffda9ef"
      },
      "source": [
        "# Análisis Exploratorio de Datos"
      ]
    },
    {
      "cell_type": "markdown",
      "source": [
        "***Revise las instrucción y realice las correcciones en donde haga falta***"
      ],
      "metadata": {
        "id": "M66THHh29kOI"
      },
      "id": "M66THHh29kOI"
    },
    {
      "cell_type": "markdown",
      "id": "891c7cf8-e68d-47b2-bd7e-a099da41b7f1",
      "metadata": {
        "id": "891c7cf8-e68d-47b2-bd7e-a099da41b7f1"
      },
      "source": [
        "## 1.- Introducciónrapida a Data Frames"
      ]
    },
    {
      "cell_type": "markdown",
      "id": "6e75c129-efe6-4a59-a392-919a6bdb88df",
      "metadata": {
        "id": "6e75c129-efe6-4a59-a392-919a6bdb88df"
      },
      "source": [
        "Puedes pensar en un **dataframe** como una variablesota donde puedes guardar tablas enteras (en vez de números o palabras sencillos).\n",
        "\n",
        "Los dataframes no son nativos de Python, vienen de una libreria llamada **Pandas**\n",
        "\n",
        "Lo primero que se necesita para trabajar con susodichos dataframes es... importar Pandas"
      ]
    },
    {
      "cell_type": "code",
      "execution_count": null,
      "id": "d6147ea7-bffe-4100-91b9-5c9f491e033e",
      "metadata": {
        "id": "d6147ea7-bffe-4100-91b9-5c9f491e033e"
      },
      "outputs": [],
      "source": [
        "import pandas as pd"
      ]
    },
    {
      "cell_type": "markdown",
      "id": "cb301b02-48db-44e8-92a3-ab535fad4a0b",
      "metadata": {
        "id": "cb301b02-48db-44e8-92a3-ab535fad4a0b"
      },
      "source": [
        "Ok, ahora vamos a crear un Dataframe que almacene todos los datos que vienen en nuestro archivo de Excel CSV"
      ]
    },
    {
      "cell_type": "code",
      "execution_count": null,
      "id": "e06df6c5-4f86-476c-a5ac-58e21a13c158",
      "metadata": {
        "id": "e06df6c5-4f86-476c-a5ac-58e21a13c158"
      },
      "outputs": [],
      "source": [
        "import pandas as pd\n",
        "\n",
        "# Cargar datos desde el archivo CSV\n",
        "df_ventas = pd.read_csv('datos_ventas.csv')\n",
        "\n",
        "# Mostrar las primeras filas del DataFrame\n",
        "print(df_ventas.head())\n"
      ]
    },
    {
      "cell_type": "markdown",
      "id": "e789b004-d035-4c65-819e-8302d0bb9947",
      "metadata": {
        "id": "e789b004-d035-4c65-819e-8302d0bb9947"
      },
      "source": [
        "Veamos como se importo nuestra base de datos a df"
      ]
    },
    {
      "cell_type": "code",
      "source": [
        "import pandas as pd\n",
        "\n",
        "# Cargar datos desde el archivo CSV\n",
        "df = pd.read_csv(\"datos_ventas.csv\")\n",
        "\n",
        "# Mostrar las primeras filas del DataFrame\n",
        "print(df.head())\n"
      ],
      "metadata": {
        "id": "amt5GQnJ2aOU"
      },
      "id": "amt5GQnJ2aOU",
      "execution_count": null,
      "outputs": []
    },
    {
      "cell_type": "markdown",
      "id": "5c0ffdb2-93ed-4a22-a98a-08c357c47aef",
      "metadata": {
        "id": "5c0ffdb2-93ed-4a22-a98a-08c357c47aef"
      },
      "source": [
        "Ahora conozcamos **shape**"
      ]
    },
    {
      "cell_type": "code",
      "execution_count": null,
      "id": "e802c048-8e02-4fe8-9f05-9e6b00d49cdb",
      "metadata": {
        "id": "e802c048-8e02-4fe8-9f05-9e6b00d49cdb"
      },
      "outputs": [],
      "source": [
        "import pandas as pd\n",
        "\n",
        "# Cargar datos desde el archivo CSV\n",
        "df = pd.read_csv(\"datos_ventas.csv\")\n",
        "\n",
        "# Obtener las dimensiones del DataFrame\n",
        "dimensiones = df.shape\n",
        "\n",
        "# Mostrar las dimensiones del DataFrame\n",
        "print(\"Número de filas:\", dimensiones[0])\n",
        "print(\"Número de columnas:\", dimensiones[1])\n"
      ]
    },
    {
      "cell_type": "markdown",
      "id": "39466be7-8be3-4f7d-97bf-6977f9bec80a",
      "metadata": {
        "id": "39466be7-8be3-4f7d-97bf-6977f9bec80a"
      },
      "source": [
        "Si quieremos ver una columna en especifico? ponemos el nombre de la columna entre corchetes"
      ]
    },
    {
      "cell_type": "code",
      "execution_count": null,
      "id": "3b0a1209-43c5-4e46-8b46-c858c4554c56",
      "metadata": {
        "id": "3b0a1209-43c5-4e46-8b46-c858c4554c56"
      },
      "outputs": [],
      "source": [
        "import pandas as pd\n",
        "\n",
        "# Suponiendo que df es nuestro DataFrame\n",
        "# Cargar datos desde el archivo CSV\n",
        "df = pd.read_csv(\"datos_ventas.csv\")\n",
        "\n",
        "# Mostrar la columna 'Ventas'\n",
        "ventas_columna = df['Ventas']\n",
        "\n",
        "# Imprimir la columna 'Ventas'\n",
        "print(ventas_columna)\n"
      ]
    },
    {
      "cell_type": "markdown",
      "id": "61468c0d-6835-498b-ab44-78239b46cd65",
      "metadata": {
        "id": "61468c0d-6835-498b-ab44-78239b46cd65"
      },
      "source": [
        "Ver 2 columnas a la vez"
      ]
    },
    {
      "cell_type": "code",
      "execution_count": null,
      "id": "3c905c17-f03d-49b4-8bb3-b4a44422dbdf",
      "metadata": {
        "id": "3c905c17-f03d-49b4-8bb3-b4a44422dbdf"
      },
      "outputs": [],
      "source": [
        "import pandas as pd\n",
        "\n",
        "# Suponiendo que df es nuestro DataFrame\n",
        "# Cargar datos desde el archivo CSV\n",
        "df = pd.read_csv(\"datos_ventas.csv\")\n",
        "\n",
        "# Mostrar las columnas 'Ventas' y 'Producto'\n",
        "columnas_seleccionadas = df[['Ventas', 'Producto']]\n",
        "\n",
        "# Imprimir las columnas seleccionadas\n",
        "print(columnas_seleccionadas)\n"
      ]
    },
    {
      "cell_type": "markdown",
      "id": "04772114-c227-4ace-9dad-81c10e443eda",
      "metadata": {
        "id": "04772114-c227-4ace-9dad-81c10e443eda"
      },
      "source": [
        " El método **mean** te da los promedios que quieres saber del DF"
      ]
    },
    {
      "cell_type": "code",
      "execution_count": null,
      "id": "a151fd48-5f73-4035-94e2-cbc5029039c7",
      "metadata": {
        "id": "a151fd48-5f73-4035-94e2-cbc5029039c7"
      },
      "outputs": [],
      "source": [
        "import pandas as pd\n",
        "\n",
        "# Suponiendo que df es nuestro DataFrame\n",
        "# Cargar datos desde el archivo CSV\n",
        "df = pd.read_csv(\"datos_ventas.csv\")\n",
        "\n",
        "# Calcular los promedios de las columnas numéricas\n",
        "promedios = df.mean()\n",
        "\n",
        "# Imprimir los promedios\n",
        "print(promedios)\n"
      ]
    },
    {
      "cell_type": "markdown",
      "id": "7dce9ffe-f6f4-4bd7-86ff-b5019c36c1fe",
      "metadata": {
        "id": "7dce9ffe-f6f4-4bd7-86ff-b5019c36c1fe"
      },
      "source": [
        "Y el método **Describe** te da un resumen de todo en el Dataframe"
      ]
    },
    {
      "cell_type": "code",
      "execution_count": null,
      "id": "6f2f9a87-ad3e-4580-a46c-be88c0fcd3f9",
      "metadata": {
        "id": "6f2f9a87-ad3e-4580-a46c-be88c0fcd3f9"
      },
      "outputs": [],
      "source": [
        "import pandas as pd\n",
        "\n",
        "# Suponiendo que df es nuestro DataFrame\n",
        "# Cargar datos desde el archivo CSV\n",
        "df = pd.read_csv(\"datos_ventas.csv\")\n",
        "\n",
        "# Obtener un resumen estadístico del DataFrame\n",
        "resumen = df.describe()\n",
        "\n",
        "# Imprimir el resumen estadístico\n",
        "print(resumen)\n"
      ]
    },
    {
      "cell_type": "markdown",
      "id": "d698680a-4d87-429a-994e-f5e38133e30f",
      "metadata": {
        "id": "d698680a-4d87-429a-994e-f5e38133e30f"
      },
      "source": [
        "##Primeros pasos - traer todo lo importante"
      ]
    },
    {
      "cell_type": "markdown",
      "id": "2cb0e420-7010-4c8d-8f12-a728ec8427bb",
      "metadata": {
        "id": "2cb0e420-7010-4c8d-8f12-a728ec8427bb"
      },
      "source": [
        "Importa todas las librerías que vas a necesitar\n",
        "\n",
        "- pandas como pd\n",
        "- matplotlib.pyplot como plt\n",
        "- seaborn como sns\n",
        "- numpy como np\n",
        "- scipy.stats traer norm\n",
        "- sklearn.preprocessing traer standardscaler\n",
        "- scipy traer stats\n",
        "- warnings\n",
        "\n",
        "y %matplotlib inline"
      ]
    },
    {
      "cell_type": "code",
      "execution_count": null,
      "id": "e72d3a15-5024-440f-a6aa-cb8dae0dc911",
      "metadata": {
        "id": "e72d3a15-5024-440f-a6aa-cb8dae0dc911"
      },
      "outputs": [],
      "source": [
        "import pandas as pd\n",
        "import matplotlib.pyplot as plt\n",
        "import seaborn as sns\n",
        "import numpy as np\n",
        "from scipy.stats import norm\n",
        "from sklearn.preprocessing import StandardScaler\n",
        "from scipy import stats\n",
        "import warnings\n",
        "warnings.filterwarnings('ignore')\n",
        "%matplotlib inline\n"
      ]
    },
    {
      "cell_type": "markdown",
      "id": "839536b8-8e7d-4848-be6d-9ef032b87cc8",
      "metadata": {
        "id": "839536b8-8e7d-4848-be6d-9ef032b87cc8"
      },
      "source": [
        "##Analisis de Precio de Ventas"
      ]
    },
    {
      "cell_type": "code",
      "source": [
        "import pandas as pd\n",
        "\n",
        "# URL raw del archivo en GitHub\n",
        "url = 'https://raw.githubusercontent.com/jofsanchezci/Datos_Explo_IA/main/Precio_restaurante.csv'\n",
        "#url= 'https://raw.githubusercontent.com/jofsanchezci/Datos_Explo_IA/refs/heads/main/kc_house_data.csv'\n",
        "url2='https://raw.githubusercontent.com/jofsanchezci/Datos_Explo_IA/main/kc_house_data.csv'\n",
        "url3='https://raw.githubusercontent.com/jofsanchezci/Datos_Explo_IA/main/datos_viviendas.csv'\n",
        "# Cargar los datos en un DataFrame\n",
        "df = pd.read_csv(url3)\n",
        "\n",
        "# Visualizar los primeros registros del DataFrame\n",
        "df\n",
        "\n"
      ],
      "metadata": {
        "colab": {
          "base_uri": "https://localhost:8080/",
          "height": 425
        },
        "id": "pmr3Lqgr30rl",
        "outputId": "f9661190-8f04-4c99-b78b-1688469eaf5e"
      },
      "id": "pmr3Lqgr30rl",
      "execution_count": null,
      "outputs": [
        {
          "output_type": "execute_result",
          "data": {
            "text/plain": [
              "    AreaVivienda  AreaSotano  CalidadTotal TipoCasa  PrecioVenta\n",
              "0           1710         856             7     1Fam       208500\n",
              "1           1262           0             6     1Fam       181500\n",
              "2           1786         920             7     1Fam       223500\n",
              "3           1717         756             7     1Fam       140000\n",
              "4           2198        1145             8     1Fam       250000\n",
              "5           1362         796             5     1Fam       143000\n",
              "6           1694        1686             7     1Fam       307000\n",
              "7           2090        1107             7     1Fam       200000\n",
              "8           1774        1022             7     1Fam       129900\n",
              "9           1077           0             5   Duplex       118000\n",
              "10          1040         981             5     1Fam       129500\n",
              "11          2324        1142             9     1Fam       345000"
            ],
            "text/html": [
              "\n",
              "  <div id=\"df-0a6019af-2e0f-43ac-834e-e4134ca087c4\" class=\"colab-df-container\">\n",
              "    <div>\n",
              "<style scoped>\n",
              "    .dataframe tbody tr th:only-of-type {\n",
              "        vertical-align: middle;\n",
              "    }\n",
              "\n",
              "    .dataframe tbody tr th {\n",
              "        vertical-align: top;\n",
              "    }\n",
              "\n",
              "    .dataframe thead th {\n",
              "        text-align: right;\n",
              "    }\n",
              "</style>\n",
              "<table border=\"1\" class=\"dataframe\">\n",
              "  <thead>\n",
              "    <tr style=\"text-align: right;\">\n",
              "      <th></th>\n",
              "      <th>AreaVivienda</th>\n",
              "      <th>AreaSotano</th>\n",
              "      <th>CalidadTotal</th>\n",
              "      <th>TipoCasa</th>\n",
              "      <th>PrecioVenta</th>\n",
              "    </tr>\n",
              "  </thead>\n",
              "  <tbody>\n",
              "    <tr>\n",
              "      <th>0</th>\n",
              "      <td>1710</td>\n",
              "      <td>856</td>\n",
              "      <td>7</td>\n",
              "      <td>1Fam</td>\n",
              "      <td>208500</td>\n",
              "    </tr>\n",
              "    <tr>\n",
              "      <th>1</th>\n",
              "      <td>1262</td>\n",
              "      <td>0</td>\n",
              "      <td>6</td>\n",
              "      <td>1Fam</td>\n",
              "      <td>181500</td>\n",
              "    </tr>\n",
              "    <tr>\n",
              "      <th>2</th>\n",
              "      <td>1786</td>\n",
              "      <td>920</td>\n",
              "      <td>7</td>\n",
              "      <td>1Fam</td>\n",
              "      <td>223500</td>\n",
              "    </tr>\n",
              "    <tr>\n",
              "      <th>3</th>\n",
              "      <td>1717</td>\n",
              "      <td>756</td>\n",
              "      <td>7</td>\n",
              "      <td>1Fam</td>\n",
              "      <td>140000</td>\n",
              "    </tr>\n",
              "    <tr>\n",
              "      <th>4</th>\n",
              "      <td>2198</td>\n",
              "      <td>1145</td>\n",
              "      <td>8</td>\n",
              "      <td>1Fam</td>\n",
              "      <td>250000</td>\n",
              "    </tr>\n",
              "    <tr>\n",
              "      <th>5</th>\n",
              "      <td>1362</td>\n",
              "      <td>796</td>\n",
              "      <td>5</td>\n",
              "      <td>1Fam</td>\n",
              "      <td>143000</td>\n",
              "    </tr>\n",
              "    <tr>\n",
              "      <th>6</th>\n",
              "      <td>1694</td>\n",
              "      <td>1686</td>\n",
              "      <td>7</td>\n",
              "      <td>1Fam</td>\n",
              "      <td>307000</td>\n",
              "    </tr>\n",
              "    <tr>\n",
              "      <th>7</th>\n",
              "      <td>2090</td>\n",
              "      <td>1107</td>\n",
              "      <td>7</td>\n",
              "      <td>1Fam</td>\n",
              "      <td>200000</td>\n",
              "    </tr>\n",
              "    <tr>\n",
              "      <th>8</th>\n",
              "      <td>1774</td>\n",
              "      <td>1022</td>\n",
              "      <td>7</td>\n",
              "      <td>1Fam</td>\n",
              "      <td>129900</td>\n",
              "    </tr>\n",
              "    <tr>\n",
              "      <th>9</th>\n",
              "      <td>1077</td>\n",
              "      <td>0</td>\n",
              "      <td>5</td>\n",
              "      <td>Duplex</td>\n",
              "      <td>118000</td>\n",
              "    </tr>\n",
              "    <tr>\n",
              "      <th>10</th>\n",
              "      <td>1040</td>\n",
              "      <td>981</td>\n",
              "      <td>5</td>\n",
              "      <td>1Fam</td>\n",
              "      <td>129500</td>\n",
              "    </tr>\n",
              "    <tr>\n",
              "      <th>11</th>\n",
              "      <td>2324</td>\n",
              "      <td>1142</td>\n",
              "      <td>9</td>\n",
              "      <td>1Fam</td>\n",
              "      <td>345000</td>\n",
              "    </tr>\n",
              "  </tbody>\n",
              "</table>\n",
              "</div>\n",
              "    <div class=\"colab-df-buttons\">\n",
              "\n",
              "  <div class=\"colab-df-container\">\n",
              "    <button class=\"colab-df-convert\" onclick=\"convertToInteractive('df-0a6019af-2e0f-43ac-834e-e4134ca087c4')\"\n",
              "            title=\"Convert this dataframe to an interactive table.\"\n",
              "            style=\"display:none;\">\n",
              "\n",
              "  <svg xmlns=\"http://www.w3.org/2000/svg\" height=\"24px\" viewBox=\"0 -960 960 960\">\n",
              "    <path d=\"M120-120v-720h720v720H120Zm60-500h600v-160H180v160Zm220 220h160v-160H400v160Zm0 220h160v-160H400v160ZM180-400h160v-160H180v160Zm440 0h160v-160H620v160ZM180-180h160v-160H180v160Zm440 0h160v-160H620v160Z\"/>\n",
              "  </svg>\n",
              "    </button>\n",
              "\n",
              "  <style>\n",
              "    .colab-df-container {\n",
              "      display:flex;\n",
              "      gap: 12px;\n",
              "    }\n",
              "\n",
              "    .colab-df-convert {\n",
              "      background-color: #E8F0FE;\n",
              "      border: none;\n",
              "      border-radius: 50%;\n",
              "      cursor: pointer;\n",
              "      display: none;\n",
              "      fill: #1967D2;\n",
              "      height: 32px;\n",
              "      padding: 0 0 0 0;\n",
              "      width: 32px;\n",
              "    }\n",
              "\n",
              "    .colab-df-convert:hover {\n",
              "      background-color: #E2EBFA;\n",
              "      box-shadow: 0px 1px 2px rgba(60, 64, 67, 0.3), 0px 1px 3px 1px rgba(60, 64, 67, 0.15);\n",
              "      fill: #174EA6;\n",
              "    }\n",
              "\n",
              "    .colab-df-buttons div {\n",
              "      margin-bottom: 4px;\n",
              "    }\n",
              "\n",
              "    [theme=dark] .colab-df-convert {\n",
              "      background-color: #3B4455;\n",
              "      fill: #D2E3FC;\n",
              "    }\n",
              "\n",
              "    [theme=dark] .colab-df-convert:hover {\n",
              "      background-color: #434B5C;\n",
              "      box-shadow: 0px 1px 3px 1px rgba(0, 0, 0, 0.15);\n",
              "      filter: drop-shadow(0px 1px 2px rgba(0, 0, 0, 0.3));\n",
              "      fill: #FFFFFF;\n",
              "    }\n",
              "  </style>\n",
              "\n",
              "    <script>\n",
              "      const buttonEl =\n",
              "        document.querySelector('#df-0a6019af-2e0f-43ac-834e-e4134ca087c4 button.colab-df-convert');\n",
              "      buttonEl.style.display =\n",
              "        google.colab.kernel.accessAllowed ? 'block' : 'none';\n",
              "\n",
              "      async function convertToInteractive(key) {\n",
              "        const element = document.querySelector('#df-0a6019af-2e0f-43ac-834e-e4134ca087c4');\n",
              "        const dataTable =\n",
              "          await google.colab.kernel.invokeFunction('convertToInteractive',\n",
              "                                                    [key], {});\n",
              "        if (!dataTable) return;\n",
              "\n",
              "        const docLinkHtml = 'Like what you see? Visit the ' +\n",
              "          '<a target=\"_blank\" href=https://colab.research.google.com/notebooks/data_table.ipynb>data table notebook</a>'\n",
              "          + ' to learn more about interactive tables.';\n",
              "        element.innerHTML = '';\n",
              "        dataTable['output_type'] = 'display_data';\n",
              "        await google.colab.output.renderOutput(dataTable, element);\n",
              "        const docLink = document.createElement('div');\n",
              "        docLink.innerHTML = docLinkHtml;\n",
              "        element.appendChild(docLink);\n",
              "      }\n",
              "    </script>\n",
              "  </div>\n",
              "\n",
              "\n",
              "<div id=\"df-e6585b5d-58f5-48bf-ba81-d07f69cfa9db\">\n",
              "  <button class=\"colab-df-quickchart\" onclick=\"quickchart('df-e6585b5d-58f5-48bf-ba81-d07f69cfa9db')\"\n",
              "            title=\"Suggest charts\"\n",
              "            style=\"display:none;\">\n",
              "\n",
              "<svg xmlns=\"http://www.w3.org/2000/svg\" height=\"24px\"viewBox=\"0 0 24 24\"\n",
              "     width=\"24px\">\n",
              "    <g>\n",
              "        <path d=\"M19 3H5c-1.1 0-2 .9-2 2v14c0 1.1.9 2 2 2h14c1.1 0 2-.9 2-2V5c0-1.1-.9-2-2-2zM9 17H7v-7h2v7zm4 0h-2V7h2v10zm4 0h-2v-4h2v4z\"/>\n",
              "    </g>\n",
              "</svg>\n",
              "  </button>\n",
              "\n",
              "<style>\n",
              "  .colab-df-quickchart {\n",
              "      --bg-color: #E8F0FE;\n",
              "      --fill-color: #1967D2;\n",
              "      --hover-bg-color: #E2EBFA;\n",
              "      --hover-fill-color: #174EA6;\n",
              "      --disabled-fill-color: #AAA;\n",
              "      --disabled-bg-color: #DDD;\n",
              "  }\n",
              "\n",
              "  [theme=dark] .colab-df-quickchart {\n",
              "      --bg-color: #3B4455;\n",
              "      --fill-color: #D2E3FC;\n",
              "      --hover-bg-color: #434B5C;\n",
              "      --hover-fill-color: #FFFFFF;\n",
              "      --disabled-bg-color: #3B4455;\n",
              "      --disabled-fill-color: #666;\n",
              "  }\n",
              "\n",
              "  .colab-df-quickchart {\n",
              "    background-color: var(--bg-color);\n",
              "    border: none;\n",
              "    border-radius: 50%;\n",
              "    cursor: pointer;\n",
              "    display: none;\n",
              "    fill: var(--fill-color);\n",
              "    height: 32px;\n",
              "    padding: 0;\n",
              "    width: 32px;\n",
              "  }\n",
              "\n",
              "  .colab-df-quickchart:hover {\n",
              "    background-color: var(--hover-bg-color);\n",
              "    box-shadow: 0 1px 2px rgba(60, 64, 67, 0.3), 0 1px 3px 1px rgba(60, 64, 67, 0.15);\n",
              "    fill: var(--button-hover-fill-color);\n",
              "  }\n",
              "\n",
              "  .colab-df-quickchart-complete:disabled,\n",
              "  .colab-df-quickchart-complete:disabled:hover {\n",
              "    background-color: var(--disabled-bg-color);\n",
              "    fill: var(--disabled-fill-color);\n",
              "    box-shadow: none;\n",
              "  }\n",
              "\n",
              "  .colab-df-spinner {\n",
              "    border: 2px solid var(--fill-color);\n",
              "    border-color: transparent;\n",
              "    border-bottom-color: var(--fill-color);\n",
              "    animation:\n",
              "      spin 1s steps(1) infinite;\n",
              "  }\n",
              "\n",
              "  @keyframes spin {\n",
              "    0% {\n",
              "      border-color: transparent;\n",
              "      border-bottom-color: var(--fill-color);\n",
              "      border-left-color: var(--fill-color);\n",
              "    }\n",
              "    20% {\n",
              "      border-color: transparent;\n",
              "      border-left-color: var(--fill-color);\n",
              "      border-top-color: var(--fill-color);\n",
              "    }\n",
              "    30% {\n",
              "      border-color: transparent;\n",
              "      border-left-color: var(--fill-color);\n",
              "      border-top-color: var(--fill-color);\n",
              "      border-right-color: var(--fill-color);\n",
              "    }\n",
              "    40% {\n",
              "      border-color: transparent;\n",
              "      border-right-color: var(--fill-color);\n",
              "      border-top-color: var(--fill-color);\n",
              "    }\n",
              "    60% {\n",
              "      border-color: transparent;\n",
              "      border-right-color: var(--fill-color);\n",
              "    }\n",
              "    80% {\n",
              "      border-color: transparent;\n",
              "      border-right-color: var(--fill-color);\n",
              "      border-bottom-color: var(--fill-color);\n",
              "    }\n",
              "    90% {\n",
              "      border-color: transparent;\n",
              "      border-bottom-color: var(--fill-color);\n",
              "    }\n",
              "  }\n",
              "</style>\n",
              "\n",
              "  <script>\n",
              "    async function quickchart(key) {\n",
              "      const quickchartButtonEl =\n",
              "        document.querySelector('#' + key + ' button');\n",
              "      quickchartButtonEl.disabled = true;  // To prevent multiple clicks.\n",
              "      quickchartButtonEl.classList.add('colab-df-spinner');\n",
              "      try {\n",
              "        const charts = await google.colab.kernel.invokeFunction(\n",
              "            'suggestCharts', [key], {});\n",
              "      } catch (error) {\n",
              "        console.error('Error during call to suggestCharts:', error);\n",
              "      }\n",
              "      quickchartButtonEl.classList.remove('colab-df-spinner');\n",
              "      quickchartButtonEl.classList.add('colab-df-quickchart-complete');\n",
              "    }\n",
              "    (() => {\n",
              "      let quickchartButtonEl =\n",
              "        document.querySelector('#df-e6585b5d-58f5-48bf-ba81-d07f69cfa9db button');\n",
              "      quickchartButtonEl.style.display =\n",
              "        google.colab.kernel.accessAllowed ? 'block' : 'none';\n",
              "    })();\n",
              "  </script>\n",
              "</div>\n",
              "\n",
              "  <div id=\"id_bf3e1415-0902-4324-b5ef-347439e7e7f7\">\n",
              "    <style>\n",
              "      .colab-df-generate {\n",
              "        background-color: #E8F0FE;\n",
              "        border: none;\n",
              "        border-radius: 50%;\n",
              "        cursor: pointer;\n",
              "        display: none;\n",
              "        fill: #1967D2;\n",
              "        height: 32px;\n",
              "        padding: 0 0 0 0;\n",
              "        width: 32px;\n",
              "      }\n",
              "\n",
              "      .colab-df-generate:hover {\n",
              "        background-color: #E2EBFA;\n",
              "        box-shadow: 0px 1px 2px rgba(60, 64, 67, 0.3), 0px 1px 3px 1px rgba(60, 64, 67, 0.15);\n",
              "        fill: #174EA6;\n",
              "      }\n",
              "\n",
              "      [theme=dark] .colab-df-generate {\n",
              "        background-color: #3B4455;\n",
              "        fill: #D2E3FC;\n",
              "      }\n",
              "\n",
              "      [theme=dark] .colab-df-generate:hover {\n",
              "        background-color: #434B5C;\n",
              "        box-shadow: 0px 1px 3px 1px rgba(0, 0, 0, 0.15);\n",
              "        filter: drop-shadow(0px 1px 2px rgba(0, 0, 0, 0.3));\n",
              "        fill: #FFFFFF;\n",
              "      }\n",
              "    </style>\n",
              "    <button class=\"colab-df-generate\" onclick=\"generateWithVariable('df')\"\n",
              "            title=\"Generate code using this dataframe.\"\n",
              "            style=\"display:none;\">\n",
              "\n",
              "  <svg xmlns=\"http://www.w3.org/2000/svg\" height=\"24px\"viewBox=\"0 0 24 24\"\n",
              "       width=\"24px\">\n",
              "    <path d=\"M7,19H8.4L18.45,9,17,7.55,7,17.6ZM5,21V16.75L18.45,3.32a2,2,0,0,1,2.83,0l1.4,1.43a1.91,1.91,0,0,1,.58,1.4,1.91,1.91,0,0,1-.58,1.4L9.25,21ZM18.45,9,17,7.55Zm-12,3A5.31,5.31,0,0,0,4.9,8.1,5.31,5.31,0,0,0,1,6.5,5.31,5.31,0,0,0,4.9,4.9,5.31,5.31,0,0,0,6.5,1,5.31,5.31,0,0,0,8.1,4.9,5.31,5.31,0,0,0,12,6.5,5.46,5.46,0,0,0,6.5,12Z\"/>\n",
              "  </svg>\n",
              "    </button>\n",
              "    <script>\n",
              "      (() => {\n",
              "      const buttonEl =\n",
              "        document.querySelector('#id_bf3e1415-0902-4324-b5ef-347439e7e7f7 button.colab-df-generate');\n",
              "      buttonEl.style.display =\n",
              "        google.colab.kernel.accessAllowed ? 'block' : 'none';\n",
              "\n",
              "      buttonEl.onclick = () => {\n",
              "        google.colab.notebook.generateWithVariable('df');\n",
              "      }\n",
              "      })();\n",
              "    </script>\n",
              "  </div>\n",
              "\n",
              "    </div>\n",
              "  </div>\n"
            ],
            "application/vnd.google.colaboratory.intrinsic+json": {
              "type": "dataframe",
              "variable_name": "df",
              "summary": "{\n  \"name\": \"df\",\n  \"rows\": 12,\n  \"fields\": [\n    {\n      \"column\": \"AreaVivienda\",\n      \"properties\": {\n        \"dtype\": \"number\",\n        \"std\": 417,\n        \"min\": 1040,\n        \"max\": 2324,\n        \"num_unique_values\": 12,\n        \"samples\": [\n          1040,\n          1077,\n          1710\n        ],\n        \"semantic_type\": \"\",\n        \"description\": \"\"\n      }\n    },\n    {\n      \"column\": \"AreaSotano\",\n      \"properties\": {\n        \"dtype\": \"number\",\n        \"std\": 471,\n        \"min\": 0,\n        \"max\": 1686,\n        \"num_unique_values\": 11,\n        \"samples\": [\n          796,\n          856,\n          981\n        ],\n        \"semantic_type\": \"\",\n        \"description\": \"\"\n      }\n    },\n    {\n      \"column\": \"CalidadTotal\",\n      \"properties\": {\n        \"dtype\": \"number\",\n        \"std\": 1,\n        \"min\": 5,\n        \"max\": 9,\n        \"num_unique_values\": 5,\n        \"samples\": [\n          6,\n          9,\n          8\n        ],\n        \"semantic_type\": \"\",\n        \"description\": \"\"\n      }\n    },\n    {\n      \"column\": \"TipoCasa\",\n      \"properties\": {\n        \"dtype\": \"category\",\n        \"num_unique_values\": 2,\n        \"samples\": [\n          \"Duplex\",\n          \"1Fam\"\n        ],\n        \"semantic_type\": \"\",\n        \"description\": \"\"\n      }\n    },\n    {\n      \"column\": \"PrecioVenta\",\n      \"properties\": {\n        \"dtype\": \"number\",\n        \"std\": 73453,\n        \"min\": 118000,\n        \"max\": 345000,\n        \"num_unique_values\": 12,\n        \"samples\": [\n          129500,\n          118000\n        ],\n        \"semantic_type\": \"\",\n        \"description\": \"\"\n      }\n    }\n  ]\n}"
            }
          },
          "metadata": {},
          "execution_count": 28
        }
      ]
    },
    {
      "cell_type": "markdown",
      "id": "e7bc2e6a-6be6-40f7-8d45-a63027499b14",
      "metadata": {
        "id": "e7bc2e6a-6be6-40f7-8d45-a63027499b14"
      },
      "source": [
        "Lo primero es conocer a \"PrecioVenta\". Vamos viendo su **describe**"
      ]
    },
    {
      "cell_type": "code",
      "source": [
        "def remplazar(string):\n",
        "  try:\n",
        "    if '$' in string:\n",
        "      return float(string.replace('$', ''))\n",
        "    return float(string)\n",
        "  except:\n",
        "    None\n",
        "df['Precio'] = df['Precio'].apply(remplazar)\n"
      ],
      "metadata": {
        "id": "C9nUGy1iOQL6"
      },
      "id": "C9nUGy1iOQL6",
      "execution_count": null,
      "outputs": []
    },
    {
      "cell_type": "code",
      "source": [
        "df"
      ],
      "metadata": {
        "colab": {
          "base_uri": "https://localhost:8080/",
          "height": 423
        },
        "id": "o5ZKj7HXOr9X",
        "outputId": "e2433b68-b3dc-456e-bcf2-0e61cf503097"
      },
      "id": "o5ZKj7HXOr9X",
      "execution_count": null,
      "outputs": [
        {
          "output_type": "execute_result",
          "data": {
            "text/plain": [
              "                Producto               Tipo  Precio   Costo\n",
              "0               Refresco  Bebida no Alcohol    20.0  $16.00\n",
              "1               Limonada  Bebida no Alcohol    25.0  $20.00\n",
              "2              Naranjada  Bebida no Alcohol    25.0  $18.25\n",
              "3                 Tisana  Bebida no Alcohol    25.0  $18.00\n",
              "4              Te helado  Bebida no Alcohol    25.0  $18.50\n",
              "..                   ...                ...     ...     ...\n",
              "72                  Tako              Sushi    75.0  $65.22\n",
              "73            Empanizado              Sushi    65.0  $56.52\n",
              "74          Philadelphia              Sushi    75.0  $65.22\n",
              "75               Tempura              Sushi    75.0  $65.22\n",
              "76  California Horizonte              Sushi    65.0  $56.52\n",
              "\n",
              "[77 rows x 4 columns]"
            ],
            "text/html": [
              "\n",
              "  <div id=\"df-93aeee97-ada8-4fa8-b18f-1aa7cce2a7b8\" class=\"colab-df-container\">\n",
              "    <div>\n",
              "<style scoped>\n",
              "    .dataframe tbody tr th:only-of-type {\n",
              "        vertical-align: middle;\n",
              "    }\n",
              "\n",
              "    .dataframe tbody tr th {\n",
              "        vertical-align: top;\n",
              "    }\n",
              "\n",
              "    .dataframe thead th {\n",
              "        text-align: right;\n",
              "    }\n",
              "</style>\n",
              "<table border=\"1\" class=\"dataframe\">\n",
              "  <thead>\n",
              "    <tr style=\"text-align: right;\">\n",
              "      <th></th>\n",
              "      <th>Producto</th>\n",
              "      <th>Tipo</th>\n",
              "      <th>Precio</th>\n",
              "      <th>Costo</th>\n",
              "    </tr>\n",
              "  </thead>\n",
              "  <tbody>\n",
              "    <tr>\n",
              "      <th>0</th>\n",
              "      <td>Refresco</td>\n",
              "      <td>Bebida no Alcohol</td>\n",
              "      <td>20.0</td>\n",
              "      <td>$16.00</td>\n",
              "    </tr>\n",
              "    <tr>\n",
              "      <th>1</th>\n",
              "      <td>Limonada</td>\n",
              "      <td>Bebida no Alcohol</td>\n",
              "      <td>25.0</td>\n",
              "      <td>$20.00</td>\n",
              "    </tr>\n",
              "    <tr>\n",
              "      <th>2</th>\n",
              "      <td>Naranjada</td>\n",
              "      <td>Bebida no Alcohol</td>\n",
              "      <td>25.0</td>\n",
              "      <td>$18.25</td>\n",
              "    </tr>\n",
              "    <tr>\n",
              "      <th>3</th>\n",
              "      <td>Tisana</td>\n",
              "      <td>Bebida no Alcohol</td>\n",
              "      <td>25.0</td>\n",
              "      <td>$18.00</td>\n",
              "    </tr>\n",
              "    <tr>\n",
              "      <th>4</th>\n",
              "      <td>Te helado</td>\n",
              "      <td>Bebida no Alcohol</td>\n",
              "      <td>25.0</td>\n",
              "      <td>$18.50</td>\n",
              "    </tr>\n",
              "    <tr>\n",
              "      <th>...</th>\n",
              "      <td>...</td>\n",
              "      <td>...</td>\n",
              "      <td>...</td>\n",
              "      <td>...</td>\n",
              "    </tr>\n",
              "    <tr>\n",
              "      <th>72</th>\n",
              "      <td>Tako</td>\n",
              "      <td>Sushi</td>\n",
              "      <td>75.0</td>\n",
              "      <td>$65.22</td>\n",
              "    </tr>\n",
              "    <tr>\n",
              "      <th>73</th>\n",
              "      <td>Empanizado</td>\n",
              "      <td>Sushi</td>\n",
              "      <td>65.0</td>\n",
              "      <td>$56.52</td>\n",
              "    </tr>\n",
              "    <tr>\n",
              "      <th>74</th>\n",
              "      <td>Philadelphia</td>\n",
              "      <td>Sushi</td>\n",
              "      <td>75.0</td>\n",
              "      <td>$65.22</td>\n",
              "    </tr>\n",
              "    <tr>\n",
              "      <th>75</th>\n",
              "      <td>Tempura</td>\n",
              "      <td>Sushi</td>\n",
              "      <td>75.0</td>\n",
              "      <td>$65.22</td>\n",
              "    </tr>\n",
              "    <tr>\n",
              "      <th>76</th>\n",
              "      <td>California Horizonte</td>\n",
              "      <td>Sushi</td>\n",
              "      <td>65.0</td>\n",
              "      <td>$56.52</td>\n",
              "    </tr>\n",
              "  </tbody>\n",
              "</table>\n",
              "<p>77 rows × 4 columns</p>\n",
              "</div>\n",
              "    <div class=\"colab-df-buttons\">\n",
              "\n",
              "  <div class=\"colab-df-container\">\n",
              "    <button class=\"colab-df-convert\" onclick=\"convertToInteractive('df-93aeee97-ada8-4fa8-b18f-1aa7cce2a7b8')\"\n",
              "            title=\"Convert this dataframe to an interactive table.\"\n",
              "            style=\"display:none;\">\n",
              "\n",
              "  <svg xmlns=\"http://www.w3.org/2000/svg\" height=\"24px\" viewBox=\"0 -960 960 960\">\n",
              "    <path d=\"M120-120v-720h720v720H120Zm60-500h600v-160H180v160Zm220 220h160v-160H400v160Zm0 220h160v-160H400v160ZM180-400h160v-160H180v160Zm440 0h160v-160H620v160ZM180-180h160v-160H180v160Zm440 0h160v-160H620v160Z\"/>\n",
              "  </svg>\n",
              "    </button>\n",
              "\n",
              "  <style>\n",
              "    .colab-df-container {\n",
              "      display:flex;\n",
              "      gap: 12px;\n",
              "    }\n",
              "\n",
              "    .colab-df-convert {\n",
              "      background-color: #E8F0FE;\n",
              "      border: none;\n",
              "      border-radius: 50%;\n",
              "      cursor: pointer;\n",
              "      display: none;\n",
              "      fill: #1967D2;\n",
              "      height: 32px;\n",
              "      padding: 0 0 0 0;\n",
              "      width: 32px;\n",
              "    }\n",
              "\n",
              "    .colab-df-convert:hover {\n",
              "      background-color: #E2EBFA;\n",
              "      box-shadow: 0px 1px 2px rgba(60, 64, 67, 0.3), 0px 1px 3px 1px rgba(60, 64, 67, 0.15);\n",
              "      fill: #174EA6;\n",
              "    }\n",
              "\n",
              "    .colab-df-buttons div {\n",
              "      margin-bottom: 4px;\n",
              "    }\n",
              "\n",
              "    [theme=dark] .colab-df-convert {\n",
              "      background-color: #3B4455;\n",
              "      fill: #D2E3FC;\n",
              "    }\n",
              "\n",
              "    [theme=dark] .colab-df-convert:hover {\n",
              "      background-color: #434B5C;\n",
              "      box-shadow: 0px 1px 3px 1px rgba(0, 0, 0, 0.15);\n",
              "      filter: drop-shadow(0px 1px 2px rgba(0, 0, 0, 0.3));\n",
              "      fill: #FFFFFF;\n",
              "    }\n",
              "  </style>\n",
              "\n",
              "    <script>\n",
              "      const buttonEl =\n",
              "        document.querySelector('#df-93aeee97-ada8-4fa8-b18f-1aa7cce2a7b8 button.colab-df-convert');\n",
              "      buttonEl.style.display =\n",
              "        google.colab.kernel.accessAllowed ? 'block' : 'none';\n",
              "\n",
              "      async function convertToInteractive(key) {\n",
              "        const element = document.querySelector('#df-93aeee97-ada8-4fa8-b18f-1aa7cce2a7b8');\n",
              "        const dataTable =\n",
              "          await google.colab.kernel.invokeFunction('convertToInteractive',\n",
              "                                                    [key], {});\n",
              "        if (!dataTable) return;\n",
              "\n",
              "        const docLinkHtml = 'Like what you see? Visit the ' +\n",
              "          '<a target=\"_blank\" href=https://colab.research.google.com/notebooks/data_table.ipynb>data table notebook</a>'\n",
              "          + ' to learn more about interactive tables.';\n",
              "        element.innerHTML = '';\n",
              "        dataTable['output_type'] = 'display_data';\n",
              "        await google.colab.output.renderOutput(dataTable, element);\n",
              "        const docLink = document.createElement('div');\n",
              "        docLink.innerHTML = docLinkHtml;\n",
              "        element.appendChild(docLink);\n",
              "      }\n",
              "    </script>\n",
              "  </div>\n",
              "\n",
              "\n",
              "<div id=\"df-788fef67-490f-43f8-ac20-871b0c8a1507\">\n",
              "  <button class=\"colab-df-quickchart\" onclick=\"quickchart('df-788fef67-490f-43f8-ac20-871b0c8a1507')\"\n",
              "            title=\"Suggest charts\"\n",
              "            style=\"display:none;\">\n",
              "\n",
              "<svg xmlns=\"http://www.w3.org/2000/svg\" height=\"24px\"viewBox=\"0 0 24 24\"\n",
              "     width=\"24px\">\n",
              "    <g>\n",
              "        <path d=\"M19 3H5c-1.1 0-2 .9-2 2v14c0 1.1.9 2 2 2h14c1.1 0 2-.9 2-2V5c0-1.1-.9-2-2-2zM9 17H7v-7h2v7zm4 0h-2V7h2v10zm4 0h-2v-4h2v4z\"/>\n",
              "    </g>\n",
              "</svg>\n",
              "  </button>\n",
              "\n",
              "<style>\n",
              "  .colab-df-quickchart {\n",
              "      --bg-color: #E8F0FE;\n",
              "      --fill-color: #1967D2;\n",
              "      --hover-bg-color: #E2EBFA;\n",
              "      --hover-fill-color: #174EA6;\n",
              "      --disabled-fill-color: #AAA;\n",
              "      --disabled-bg-color: #DDD;\n",
              "  }\n",
              "\n",
              "  [theme=dark] .colab-df-quickchart {\n",
              "      --bg-color: #3B4455;\n",
              "      --fill-color: #D2E3FC;\n",
              "      --hover-bg-color: #434B5C;\n",
              "      --hover-fill-color: #FFFFFF;\n",
              "      --disabled-bg-color: #3B4455;\n",
              "      --disabled-fill-color: #666;\n",
              "  }\n",
              "\n",
              "  .colab-df-quickchart {\n",
              "    background-color: var(--bg-color);\n",
              "    border: none;\n",
              "    border-radius: 50%;\n",
              "    cursor: pointer;\n",
              "    display: none;\n",
              "    fill: var(--fill-color);\n",
              "    height: 32px;\n",
              "    padding: 0;\n",
              "    width: 32px;\n",
              "  }\n",
              "\n",
              "  .colab-df-quickchart:hover {\n",
              "    background-color: var(--hover-bg-color);\n",
              "    box-shadow: 0 1px 2px rgba(60, 64, 67, 0.3), 0 1px 3px 1px rgba(60, 64, 67, 0.15);\n",
              "    fill: var(--button-hover-fill-color);\n",
              "  }\n",
              "\n",
              "  .colab-df-quickchart-complete:disabled,\n",
              "  .colab-df-quickchart-complete:disabled:hover {\n",
              "    background-color: var(--disabled-bg-color);\n",
              "    fill: var(--disabled-fill-color);\n",
              "    box-shadow: none;\n",
              "  }\n",
              "\n",
              "  .colab-df-spinner {\n",
              "    border: 2px solid var(--fill-color);\n",
              "    border-color: transparent;\n",
              "    border-bottom-color: var(--fill-color);\n",
              "    animation:\n",
              "      spin 1s steps(1) infinite;\n",
              "  }\n",
              "\n",
              "  @keyframes spin {\n",
              "    0% {\n",
              "      border-color: transparent;\n",
              "      border-bottom-color: var(--fill-color);\n",
              "      border-left-color: var(--fill-color);\n",
              "    }\n",
              "    20% {\n",
              "      border-color: transparent;\n",
              "      border-left-color: var(--fill-color);\n",
              "      border-top-color: var(--fill-color);\n",
              "    }\n",
              "    30% {\n",
              "      border-color: transparent;\n",
              "      border-left-color: var(--fill-color);\n",
              "      border-top-color: var(--fill-color);\n",
              "      border-right-color: var(--fill-color);\n",
              "    }\n",
              "    40% {\n",
              "      border-color: transparent;\n",
              "      border-right-color: var(--fill-color);\n",
              "      border-top-color: var(--fill-color);\n",
              "    }\n",
              "    60% {\n",
              "      border-color: transparent;\n",
              "      border-right-color: var(--fill-color);\n",
              "    }\n",
              "    80% {\n",
              "      border-color: transparent;\n",
              "      border-right-color: var(--fill-color);\n",
              "      border-bottom-color: var(--fill-color);\n",
              "    }\n",
              "    90% {\n",
              "      border-color: transparent;\n",
              "      border-bottom-color: var(--fill-color);\n",
              "    }\n",
              "  }\n",
              "</style>\n",
              "\n",
              "  <script>\n",
              "    async function quickchart(key) {\n",
              "      const quickchartButtonEl =\n",
              "        document.querySelector('#' + key + ' button');\n",
              "      quickchartButtonEl.disabled = true;  // To prevent multiple clicks.\n",
              "      quickchartButtonEl.classList.add('colab-df-spinner');\n",
              "      try {\n",
              "        const charts = await google.colab.kernel.invokeFunction(\n",
              "            'suggestCharts', [key], {});\n",
              "      } catch (error) {\n",
              "        console.error('Error during call to suggestCharts:', error);\n",
              "      }\n",
              "      quickchartButtonEl.classList.remove('colab-df-spinner');\n",
              "      quickchartButtonEl.classList.add('colab-df-quickchart-complete');\n",
              "    }\n",
              "    (() => {\n",
              "      let quickchartButtonEl =\n",
              "        document.querySelector('#df-788fef67-490f-43f8-ac20-871b0c8a1507 button');\n",
              "      quickchartButtonEl.style.display =\n",
              "        google.colab.kernel.accessAllowed ? 'block' : 'none';\n",
              "    })();\n",
              "  </script>\n",
              "</div>\n",
              "\n",
              "  <div id=\"id_5d73fa4e-104e-4907-a234-7e0e1c714fb7\">\n",
              "    <style>\n",
              "      .colab-df-generate {\n",
              "        background-color: #E8F0FE;\n",
              "        border: none;\n",
              "        border-radius: 50%;\n",
              "        cursor: pointer;\n",
              "        display: none;\n",
              "        fill: #1967D2;\n",
              "        height: 32px;\n",
              "        padding: 0 0 0 0;\n",
              "        width: 32px;\n",
              "      }\n",
              "\n",
              "      .colab-df-generate:hover {\n",
              "        background-color: #E2EBFA;\n",
              "        box-shadow: 0px 1px 2px rgba(60, 64, 67, 0.3), 0px 1px 3px 1px rgba(60, 64, 67, 0.15);\n",
              "        fill: #174EA6;\n",
              "      }\n",
              "\n",
              "      [theme=dark] .colab-df-generate {\n",
              "        background-color: #3B4455;\n",
              "        fill: #D2E3FC;\n",
              "      }\n",
              "\n",
              "      [theme=dark] .colab-df-generate:hover {\n",
              "        background-color: #434B5C;\n",
              "        box-shadow: 0px 1px 3px 1px rgba(0, 0, 0, 0.15);\n",
              "        filter: drop-shadow(0px 1px 2px rgba(0, 0, 0, 0.3));\n",
              "        fill: #FFFFFF;\n",
              "      }\n",
              "    </style>\n",
              "    <button class=\"colab-df-generate\" onclick=\"generateWithVariable('df')\"\n",
              "            title=\"Generate code using this dataframe.\"\n",
              "            style=\"display:none;\">\n",
              "\n",
              "  <svg xmlns=\"http://www.w3.org/2000/svg\" height=\"24px\"viewBox=\"0 0 24 24\"\n",
              "       width=\"24px\">\n",
              "    <path d=\"M7,19H8.4L18.45,9,17,7.55,7,17.6ZM5,21V16.75L18.45,3.32a2,2,0,0,1,2.83,0l1.4,1.43a1.91,1.91,0,0,1,.58,1.4,1.91,1.91,0,0,1-.58,1.4L9.25,21ZM18.45,9,17,7.55Zm-12,3A5.31,5.31,0,0,0,4.9,8.1,5.31,5.31,0,0,0,1,6.5,5.31,5.31,0,0,0,4.9,4.9,5.31,5.31,0,0,0,6.5,1,5.31,5.31,0,0,0,8.1,4.9,5.31,5.31,0,0,0,12,6.5,5.46,5.46,0,0,0,6.5,12Z\"/>\n",
              "  </svg>\n",
              "    </button>\n",
              "    <script>\n",
              "      (() => {\n",
              "      const buttonEl =\n",
              "        document.querySelector('#id_5d73fa4e-104e-4907-a234-7e0e1c714fb7 button.colab-df-generate');\n",
              "      buttonEl.style.display =\n",
              "        google.colab.kernel.accessAllowed ? 'block' : 'none';\n",
              "\n",
              "      buttonEl.onclick = () => {\n",
              "        google.colab.notebook.generateWithVariable('df');\n",
              "      }\n",
              "      })();\n",
              "    </script>\n",
              "  </div>\n",
              "\n",
              "    </div>\n",
              "  </div>\n"
            ],
            "application/vnd.google.colaboratory.intrinsic+json": {
              "type": "dataframe",
              "variable_name": "df",
              "summary": "{\n  \"name\": \"df\",\n  \"rows\": 77,\n  \"fields\": [\n    {\n      \"column\": \"Producto\",\n      \"properties\": {\n        \"dtype\": \"string\",\n        \"num_unique_values\": 77,\n        \"samples\": [\n          \"Te helado\",\n          \"Tacos Arrachera\",\n          \"Tecate\"\n        ],\n        \"semantic_type\": \"\",\n        \"description\": \"\"\n      }\n    },\n    {\n      \"column\": \"Tipo\",\n      \"properties\": {\n        \"dtype\": \"category\",\n        \"num_unique_values\": 11,\n        \"samples\": [\n          \"Pizzas\",\n          \"Bebida no Alcohol\",\n          \"Postres\"\n        ],\n        \"semantic_type\": \"\",\n        \"description\": \"\"\n      }\n    },\n    {\n      \"column\": \"Precio\",\n      \"properties\": {\n        \"dtype\": \"number\",\n        \"std\": 193.56720843982134,\n        \"min\": 18.0,\n        \"max\": 758.0,\n        \"num_unique_values\": 41,\n        \"samples\": [\n          123.0,\n          647.0,\n          410.0\n        ],\n        \"semantic_type\": \"\",\n        \"description\": \"\"\n      }\n    },\n    {\n      \"column\": \"Costo\",\n      \"properties\": {\n        \"dtype\": \"string\",\n        \"num_unique_values\": 52,\n        \"samples\": [\n          \"$553.34\",\n          \"$72.17\",\n          \"$154.78\"\n        ],\n        \"semantic_type\": \"\",\n        \"description\": \"\"\n      }\n    }\n  ]\n}"
            }
          },
          "metadata": {},
          "execution_count": 19
        }
      ]
    },
    {
      "cell_type": "code",
      "source": [
        "df.info()"
      ],
      "metadata": {
        "colab": {
          "base_uri": "https://localhost:8080/"
        },
        "id": "LvZ6hn1oPB-f",
        "outputId": "c2615abb-c28b-4503-a482-3b6d414e97d2"
      },
      "id": "LvZ6hn1oPB-f",
      "execution_count": null,
      "outputs": [
        {
          "output_type": "stream",
          "name": "stdout",
          "text": [
            "<class 'pandas.core.frame.DataFrame'>\n",
            "RangeIndex: 12 entries, 0 to 11\n",
            "Data columns (total 5 columns):\n",
            " #   Column        Non-Null Count  Dtype \n",
            "---  ------        --------------  ----- \n",
            " 0   AreaVivienda  12 non-null     int64 \n",
            " 1   AreaSotano    12 non-null     int64 \n",
            " 2   CalidadTotal  12 non-null     int64 \n",
            " 3   TipoCasa      12 non-null     object\n",
            " 4   PrecioVenta   12 non-null     int64 \n",
            "dtypes: int64(4), object(1)\n",
            "memory usage: 608.0+ bytes\n"
          ]
        }
      ]
    },
    {
      "cell_type": "code",
      "execution_count": null,
      "id": "4efbfc14-e74a-4e49-8b6b-59ec250854a0",
      "metadata": {
        "colab": {
          "base_uri": "https://localhost:8080/"
        },
        "id": "4efbfc14-e74a-4e49-8b6b-59ec250854a0",
        "outputId": "f94d3147-eaca-49d2-c146-5103aadfc1d9"
      },
      "outputs": [
        {
          "output_type": "stream",
          "name": "stdout",
          "text": [
            "count     77.000000\n",
            "mean     144.194805\n",
            "std      193.567208\n",
            "min       18.000000\n",
            "25%       42.000000\n",
            "50%       75.000000\n",
            "75%      125.000000\n",
            "max      758.000000\n",
            "Name: Precio, dtype: float64\n"
          ]
        }
      ],
      "source": [
        "# Suponiendo que tu DataFrame se llama df\n",
        "descripcion_precio_venta = df['PrecioVenta'].describe()\n",
        "print(descripcion_precio_venta)\n"
      ]
    },
    {
      "cell_type": "markdown",
      "id": "cf34bbb4-c774-492c-9ef0-1f3b0af04095",
      "metadata": {
        "id": "cf34bbb4-c774-492c-9ef0-1f3b0af04095"
      },
      "source": [
        "Ahora vamos hacer una foto - hagamos una gráfica de **distplot**\n",
        "\n",
        "Veremos que\n",
        "- Se desvía de la distribucion normal\n",
        "- Tiene Skew positivo (oblicuidad)\n",
        "- Muestra Peakedness (kurtosis??)"
      ]
    },
    {
      "cell_type": "code",
      "execution_count": null,
      "id": "96fe5977-90ee-4cdb-9c65-c0852739ec02",
      "metadata": {
        "id": "96fe5977-90ee-4cdb-9c65-c0852739ec02",
        "colab": {
          "base_uri": "https://localhost:8080/",
          "height": 573
        },
        "outputId": "c3ad0ff5-f3dd-407b-e345-7312f9094193"
      },
      "outputs": [
        {
          "output_type": "display_data",
          "data": {
            "text/plain": [
              "<Figure size 1000x600 with 1 Axes>"
            ],
            "image/png": "[encoded data removed]"
          },
          "metadata": {}
        }
      ],
      "source": [
        "import seaborn as sns\n",
        "import matplotlib.pyplot as plt\n",
        "\n",
        "# Configurar el estilo de los gráficos\n",
        "sns.set(style=\"whitegrid\")\n",
        "\n",
        "# Crear el gráfico de densidad de distribución\n",
        "plt.figure(figsize=(10, 6))\n",
        "sns.distplot(df['PrecioVenta'], hist=True, kde=True, bins=30, color='blue', hist_kws={'edgecolor': 'black'}, kde_kws={'linewidth': 2})\n",
        "plt.title('Distribución de PrecioVenta')\n",
        "plt.xlabel('PrecioVenta')\n",
        "plt.ylabel('Densidad')\n",
        "plt.show()\n"
      ]
    },
    {
      "cell_type": "markdown",
      "source": [
        "Este código generará un gráfico de densidad de distribución para la columna \"PrecioVenta\" en tu DataFrame. Puedes observar la forma de la distribución y evaluar si muestra asimetría (skewness) positiva o negativa, y si tiene exceso de picos (kurtosis)."
      ],
      "metadata": {
        "id": "iJP19gHE8Cws"
      },
      "id": "iJP19gHE8Cws"
    },
    {
      "cell_type": "markdown",
      "id": "7f53cfbb-1259-4053-bd0c-76bab3b89497",
      "metadata": {
        "id": "7f53cfbb-1259-4053-bd0c-76bab3b89497"
      },
      "source": [
        "Podemos conocer el skewness y la kurtosis de la gráfica usando los métodos **skew** y **kurt**"
      ]
    },
    {
      "cell_type": "code",
      "execution_count": null,
      "id": "8b9a86a8-9cd8-45eb-ba7f-ae3ae477b19d",
      "metadata": {
        "id": "8b9a86a8-9cd8-45eb-ba7f-ae3ae477b19d",
        "colab": {
          "base_uri": "https://localhost:8080/"
        },
        "outputId": "a1618976-4605-4cec-b983-a275a7f147e7"
      },
      "outputs": [
        {
          "output_type": "stream",
          "name": "stdout",
          "text": [
            "Sesgo de la distribución: 0.7465951155438266\n",
            "Curtosis de la distribución: -0.5437601530776206\n"
          ]
        }
      ],
      "source": [
        "from scipy.stats import skew, kurtosis\n",
        "\n",
        "# Calcular el sesgo y la curtosis\n",
        "sesgo = skew(df['PrecioVenta'])\n",
        "curtosis = kurtosis(df['PrecioVenta'])\n",
        "\n",
        "print(\"Sesgo de la distribución:\", sesgo)\n",
        "print(\"Curtosis de la distribución:\", curtosis)\n"
      ]
    },
    {
      "cell_type": "markdown",
      "id": "767cf9d0-de8d-43c0-af45-13bf58ce06fe",
      "metadata": {
        "id": "767cf9d0-de8d-43c0-af45-13bf58ce06fe"
      },
      "source": [
        "Revisemos que sucede con las amigas de \"PrecioVenta\" - dibujemos un ScatterPlot de PrecioVenta vs AreaVivienda. Nota como vamos a reducir el dataframe a solo 2 columnas para no tener que usar todo\n",
        "\n",
        "Primero declara una variable var que contenga el area vivible"
      ]
    },
    {
      "cell_type": "code",
      "execution_count": null,
      "id": "3c1ec18b-af2c-4e87-addf-ab3244a2cbd5",
      "metadata": {
        "id": "3c1ec18b-af2c-4e87-addf-ab3244a2cbd5",
        "colab": {
          "base_uri": "https://localhost:8080/",
          "height": 573
        },
        "outputId": "89df6ebb-9cf7-4791-f38f-54429c533ff9"
      },
      "outputs": [
        {
          "output_type": "display_data",
          "data": {
            "text/plain": [
              "<Figure size 1000x600 with 1 Axes>"
            ],
            "image/png": "[encoded data removed]"
          },
          "metadata": {}
        }
      ],
      "source": [
        "import matplotlib.pyplot as plt\n",
        "\n",
        "# Seleccionar las columnas relevantes\n",
        "data = df[['PrecioVenta', 'AreaVivienda']]\n",
        "\n",
        "# Extraer los valores de \"AreaVivienda\"\n",
        "var = data['AreaVivienda'].values\n",
        "\n",
        "# Crear el gráfico de dispersión\n",
        "plt.figure(figsize=(10, 6))\n",
        "plt.scatter(var, data['PrecioVenta'], color='blue', alpha=0.5)\n",
        "plt.title('Precio de Venta vs Área de Vivienda')\n",
        "plt.xlabel('Área de Vivienda')\n",
        "plt.ylabel('Precio de Venta')\n",
        "plt.grid(True)\n",
        "plt.show()\n"
      ]
    },
    {
      "cell_type": "markdown",
      "id": "a4553b02-a0bd-431b-b401-bfc530d6c593",
      "metadata": {
        "id": "a4553b02-a0bd-431b-b401-bfc530d6c593"
      },
      "source": [
        "Luego vamos a usar pd.concat para crear una tabla de solo 2 columnas con area vivible (var) y Precio de venta que se llame data"
      ]
    },
    {
      "cell_type": "code",
      "execution_count": null,
      "id": "f5048d35-60c7-4fc2-8a44-b62088cfa1ae",
      "metadata": {
        "id": "f5048d35-60c7-4fc2-8a44-b62088cfa1ae",
        "colab": {
          "base_uri": "https://localhost:8080/"
        },
        "outputId": "1e5c5f20-7858-4208-8ab8-6221344ad8d3"
      },
      "outputs": [
        {
          "output_type": "stream",
          "name": "stdout",
          "text": [
            "   AreaVivienda  PrecioVenta\n",
            "0          1710       208500\n",
            "1          1262       181500\n",
            "2          1786       223500\n",
            "3          1717       140000\n",
            "4          2198       250000\n"
          ]
        }
      ],
      "source": [
        "import pandas as pd\n",
        "\n",
        "# Seleccionar las columnas relevantes\n",
        "data = pd.concat([pd.Series(var, name='AreaVivienda'), df['PrecioVenta']], axis=1)\n",
        "\n",
        "# Mostrar las primeras filas del DataFrame resultante\n",
        "print(data.head())\n"
      ]
    },
    {
      "cell_type": "markdown",
      "id": "e7a343e3-d7fe-4d49-901c-63369df862e5",
      "metadata": {
        "id": "e7a343e3-d7fe-4d49-901c-63369df862e5"
      },
      "source": [
        "y ahora vamos a terminar con un data.plot.scatter para crear una grafica de scatterplot."
      ]
    },
    {
      "cell_type": "code",
      "execution_count": null,
      "id": "5a18b734-fda0-4e91-9c3d-88ee9832ce64",
      "metadata": {
        "id": "5a18b734-fda0-4e91-9c3d-88ee9832ce64",
        "colab": {
          "base_uri": "https://localhost:8080/",
          "height": 483
        },
        "outputId": "47279d38-7fe0-4733-9140-f53a08bd5c32"
      },
      "outputs": [
        {
          "output_type": "display_data",
          "data": {
            "text/plain": [
              "<Figure size 640x480 with 1 Axes>"
            ],
            "image/png": "[encoded data removed]"
          },
          "metadata": {}
        }
      ],
      "source": [
        "import matplotlib.pyplot as plt\n",
        "\n",
        "# Crear el scatter plot\n",
        "data.plot.scatter(x='AreaVivienda', y='PrecioVenta', alpha=0.5)\n",
        "\n",
        "# Establecer etiquetas y título\n",
        "plt.xlabel('Área de la Vivienda')\n",
        "plt.ylabel('Precio de Venta')\n",
        "plt.title('Relación entre Área de la Vivienda y Precio de Venta')\n",
        "\n",
        "# Mostrar el gráfico\n",
        "plt.show()\n"
      ]
    },
    {
      "cell_type": "markdown",
      "id": "a63abcdb-17bb-4ee1-89b4-4b643e13cf30",
      "metadata": {
        "id": "a63abcdb-17bb-4ee1-89b4-4b643e13cf30"
      },
      "source": [
        "Ahora que pasa con \"PrecioVenta\" y \"AreaSotano\"? Son amigas pero su relación no es lineal."
      ]
    },
    {
      "cell_type": "code",
      "execution_count": null,
      "id": "437797dd-a3a3-427d-9820-c098c19715ac",
      "metadata": {
        "id": "437797dd-a3a3-427d-9820-c098c19715ac",
        "colab": {
          "base_uri": "https://localhost:8080/",
          "height": 483
        },
        "outputId": "accc4b80-303c-467d-d268-5cf322234b70"
      },
      "outputs": [
        {
          "output_type": "display_data",
          "data": {
            "text/plain": [
              "<Figure size 640x480 with 1 Axes>"
            ],
            "image/png": "[encoded data removed]"
          },
          "metadata": {}
        }
      ],
      "source": [
        "import seaborn as sns\n",
        "\n",
        "# Crear el scatter plot con línea de regresión lineal\n",
        "sns.regplot(x='AreaSotano', y='PrecioVenta', data=df, scatter_kws={'alpha':0.5})\n",
        "\n",
        "# Establecer etiquetas y título\n",
        "plt.xlabel('Área del Sótano')\n",
        "plt.ylabel('Precio de Venta')\n",
        "plt.title('Relación entre Área del Sótano y Precio de Venta')\n",
        "\n",
        "# Mostrar el gráfico\n",
        "plt.show()\n"
      ]
    },
    {
      "cell_type": "markdown",
      "id": "c5e3af43-23e9-44fa-a5ad-f058c5a58637",
      "metadata": {
        "id": "c5e3af43-23e9-44fa-a5ad-f058c5a58637"
      },
      "source": [
        "#### Relaciones categóricas"
      ]
    },
    {
      "cell_type": "markdown",
      "id": "a563d760-8bd7-42a5-aab8-5540ea936bd5",
      "metadata": {
        "id": "a563d760-8bd7-42a5-aab8-5540ea936bd5"
      },
      "source": [
        "Vamos ahora armar una gráfica de boxplot para verificar el efecto de la Calidad sobre el precio de ventas.\n",
        "\n",
        "Comenzamos igual, declara una variable var = \"CalidadTotal\"\n",
        "\n",
        "Y una data donde concatenes el precio de ventas con var"
      ]
    },
    {
      "cell_type": "code",
      "execution_count": null,
      "id": "4c924040-28c7-487d-8984-e48d284f1d8c",
      "metadata": {
        "id": "4c924040-28c7-487d-8984-e48d284f1d8c"
      },
      "outputs": [],
      "source": [
        "# Declarar variable var\n",
        "var = 'CalidadTotal'\n",
        "\n",
        "# Crear DataFrame con solo dos columnas\n",
        "data = pd.concat([df['PrecioVenta'], df[var]], axis=1)\n",
        "\n",
        "# Crear boxplot\n",
        "sns.boxplot(x=var, y='PrecioVenta', data=data)\n",
        "\n",
        "# Establecer etiquetas y título\n",
        "plt.xlabel('Calidad Total')\n",
        "plt.ylabel('Precio de Venta')\n",
        "plt.title('Efecto de la Calidad Total sobre el Precio de Venta')\n",
        "\n",
        "# Mostrar el gráfico\n",
        "plt.show()\n"
      ]
    }
  ],
  "metadata": {
    "kernelspec": {
      "display_name": "Python 3",
      "language": "python",
      "name": "python3"
    },
    "language_info": {
      "codemirror_mode": {
        "name": "ipython",
        "version": 3
      },
      "file_extension": ".py",
      "mimetype": "text/x-python",
      "name": "python",
      "nbconvert_exporter": "python",
      "pygments_lexer": "ipython3",
      "version": "3.8.8"
    },
    "colab": {
      "provenance": []
    }
  },
  "nbformat": 4,
  "nbformat_minor": 5
}