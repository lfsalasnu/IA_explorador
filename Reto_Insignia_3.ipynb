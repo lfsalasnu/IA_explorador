{
  "nbformat": 4,
  "nbformat_minor": 0,
  "metadata": {
    "colab": {
      "provenance": []
    },
    "kernelspec": {
      "name": "python3",
      "display_name": "Python 3"
    },
    "language_info": {
      "name": "python"
    }
  },
  "cells": [
    {
      "cell_type": "markdown",
      "source": [
        "# Procesamiento de datos\n",
        "\n",
        "En un entorno de procesamiento de datos, se requiere un agente inteligente capaz de convertir texto en su representación numérica equivalente utilizando códigos ASCII. Este agente será utilizado en diversas aplicaciones donde se necesita transformar información textual en un formato numérico para su procesamiento, análisis o transmisión a través de sistemas de computación. En un caso de uso específico, el agente puede recibir textos de entrada provenientes de diversas fuentes, como mensajes, archivos de texto o datos obtenidos de sensores. Su función principal es convertir esta información textual en una representación numérica que sea comprensible y procesable por sistemas y algoritmos.\n",
        "\n",
        "Hay que hacer la implementación de un agente de tipo reactivo en donde la percepción principal es una cadena de texto que devuelve por cada letra el numero ASCII. Por ejemplo, para la palabra 'Hola' como percepción, devuelve los números: 72, 111, 108, 97.\n",
        "\n",
        "El agente pude recibir cualquier tipo de símbolo en el texto y debe ser capaz de hacer la conversión a ASCII\n",
        "\n",
        "**Entrada**\n",
        "- Cada uno de los casos de prueba estará compuesto por una línea con cadena de texto a convertir.\n",
        "- Se deben considerar símbolos especiales como punto, coma, espacio, símbolos matemáticos, etc.\n",
        "\n",
        "**Salida**\n",
        "- La salida estará representada por una única línea formada por los valores en ASCII de cada una de las letras de la cadena de texto\n",
        "\n",
        "\n",
        "**Casos de prueba**\n",
        "\n",
        "```\n",
        "Entrada\tSalida Esperada\n",
        "Hola\t     72 111 108 97\n",
        "hora Base\t104 111 114 97 32 66 97 115 101\n",
        "1+2=3\t    49 43 50 61 51\n",
        "```\n",
        "\n",
        "\n",
        "\n",
        "Instrucciones para la calificación automática\n",
        "\n",
        "Antes de enviar la solución del quiz, por favor tenga en cuenta los siguientes aspectos:\n",
        "\n",
        "Cada caso de prueba se especifica con una línea.\n",
        "Cada línea debe contener la cadena de texto a convertir.\n",
        "Es importante no utilizar ningún mensaje a la hora de capturar las entradas, es decir, al utilizar la función input()no agregue ningún texto para capturar los datos.\n",
        "Los resultados se muestran en una única línea. Los dos valores requeridos deben estar separados por un espacio."
      ],
      "metadata": {
        "id": "mFezBGBu86GN"
      }
    },
    {
      "cell_type": "code",
      "execution_count": 17,
      "metadata": {
        "colab": {
          "base_uri": "https://localhost:8080/"
        },
        "id": "sYPXAdyD8uCm",
        "outputId": "41bb32a2-c7cb-4d52-c044-db74d916249c"
      },
      "outputs": [
        {
          "output_type": "stream",
          "name": "stdout",
          "text": [
            "1+2=3\n",
            "49 43 50 61 51 "
          ]
        }
      ],
      "source": [
        "class agente_reactivo:\n",
        "  def __init__(self):\n",
        "    self.entrada = None\n",
        "    pass\n",
        "\n",
        "  def percepcion(self, entrada):\n",
        "    self.entrada=entrada\n",
        "\n",
        "  def accion(self):\n",
        "    salida=[]\n",
        "    for letra in self.entrada:\n",
        "      valor=ord(letra)\n",
        "      salida.append(valor)\n",
        "    return salida\n",
        "\n",
        "texto = input()\n",
        "agente = agente_reactivo()\n",
        "agente.percepcion(texto)\n",
        "salida = agente.accion()\n",
        "for valor in salida:\n",
        "  print(valor, end=' ')"
      ]
    }
  ]
}